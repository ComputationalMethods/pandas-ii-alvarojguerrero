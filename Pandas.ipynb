{
 "cells": [
  {
   "cell_type": "markdown",
   "metadata": {},
   "source": [
    "# Pandas"
   ]
  },
  {
   "cell_type": "markdown",
   "metadata": {},
   "source": [
    "An flat _spreadsheet_ can be seen in terms of the types of variables of `Python` just as dictionary of lists, where each column of the spreadsheet is a pair key-list of the dictionary \n",
    "\n",
    "|   |  A   |  B   |\n",
    "|---|:----:|:----:|\n",
    "| 1 | even | odd  |\n",
    "| 2 |   0  | 1    |\n",
    "| 3 |   2  | 3    |\n",
    "| 4 |   4  | 5    |\n",
    "| 5 |   6  | 7    |\n",
    "| 6 |   8  | 9    |"
   ]
  },
  {
   "cell_type": "code",
   "execution_count": 25,
   "metadata": {},
   "outputs": [],
   "source": [
    "numbers={\"even\": [0,2,4,6,8],   #  First  key-list\n",
    "         \"odd\" : [1,3,5,7,9] }  #  Second key-list"
   ]
  },
  {
   "cell_type": "markdown",
   "metadata": {
    "heading_collapsed": true
   },
   "source": [
    "### DataFrame\n",
    "`Pandas` converts this dictionary of lists, into a `DataFrame` which is just an spreadsheet but interpreted at the programming level. It can and can be managed without a graphical interface."
   ]
  },
  {
   "cell_type": "code",
   "execution_count": 2,
   "metadata": {
    "hidden": true
   },
   "outputs": [
    {
     "data": {
      "text/html": [
       "<div>\n",
       "<table border=\"1\" class=\"dataframe\">\n",
       "  <thead>\n",
       "    <tr style=\"text-align: right;\">\n",
       "      <th></th>\n",
       "      <th>even</th>\n",
       "      <th>odd</th>\n",
       "    </tr>\n",
       "  </thead>\n",
       "  <tbody>\n",
       "    <tr>\n",
       "      <th>0</th>\n",
       "      <td>0</td>\n",
       "      <td>1</td>\n",
       "    </tr>\n",
       "    <tr>\n",
       "      <th>1</th>\n",
       "      <td>2</td>\n",
       "      <td>3</td>\n",
       "    </tr>\n",
       "    <tr>\n",
       "      <th>2</th>\n",
       "      <td>4</td>\n",
       "      <td>5</td>\n",
       "    </tr>\n",
       "    <tr>\n",
       "      <th>3</th>\n",
       "      <td>6</td>\n",
       "      <td>7</td>\n",
       "    </tr>\n",
       "    <tr>\n",
       "      <th>4</th>\n",
       "      <td>8</td>\n",
       "      <td>9</td>\n",
       "    </tr>\n",
       "  </tbody>\n",
       "</table>\n",
       "</div>"
      ],
      "text/plain": [
       "   even  odd\n",
       "0     0    1\n",
       "1     2    3\n",
       "2     4    5\n",
       "3     6    7\n",
       "4     8    9"
      ]
     },
     "execution_count": 2,
     "metadata": {},
     "output_type": "execute_result"
    }
   ],
   "source": [
    "import pandas as pd\n",
    "df=pd.DataFrame(numbers)\n",
    "df"
   ]
  },
  {
   "cell_type": "markdown",
   "metadata": {
    "hidden": true
   },
   "source": [
    "we can check the shape of the `DataFrame`"
   ]
  },
  {
   "cell_type": "code",
   "execution_count": 102,
   "metadata": {
    "hidden": true
   },
   "outputs": [
    {
     "data": {
      "text/plain": [
       "(5, 2)"
      ]
     },
     "execution_count": 102,
     "metadata": {},
     "output_type": "execute_result"
    }
   ],
   "source": [
    "df.shape"
   ]
  },
  {
   "cell_type": "markdown",
   "metadata": {
    "heading_collapsed": true
   },
   "source": [
    "### Series"
   ]
  },
  {
   "cell_type": "markdown",
   "metadata": {
    "hidden": true
   },
   "source": [
    "Each column of the DataFrame is now an augmented dictionary called `Series`, with the indices as the keys of the `Series`"
   ]
  },
  {
   "cell_type": "code",
   "execution_count": 18,
   "metadata": {
    "hidden": true
   },
   "outputs": [
    {
     "data": {
      "text/plain": [
       "pandas.core.series.Series"
      ]
     },
     "execution_count": 18,
     "metadata": {},
     "output_type": "execute_result"
    }
   ],
   "source": [
    "type( df['even'] )"
   ]
  },
  {
   "cell_type": "code",
   "execution_count": 20,
   "metadata": {
    "hidden": true
   },
   "outputs": [
    {
     "data": {
      "text/plain": [
       "6"
      ]
     },
     "execution_count": 20,
     "metadata": {},
     "output_type": "execute_result"
    }
   ],
   "source": [
    "df.even[3]"
   ]
  },
  {
   "cell_type": "markdown",
   "metadata": {
    "hidden": true
   },
   "source": [
    "Note that the key name can be used also as an attribute.\n",
    "\n",
    "> The __power__ of Pandas rely in that their main data structures: `DataFrames` and `Series`, are enriched with many useful methods and attributes.\n",
    "\n",
    "### [Official definition of Pandas](http://pandas.pydata.org/pandas-docs/stable/)\n",
    "\n",
    "> Pandas is a Python package providing __fast__, __flexible__, and __expressive__ _data structures_ designed to make working with “relational” or “labeled” data both easy and intuitive. It aims to be the fundamental high-level building block for doing practical, real world data analysis in Python. Additionally, it _has the broader goal of becoming the most powerful and flexible open source data analysis / manipulation tool_ available in any language. It is already well on its way toward this goal.\n",
    "\n",
    "* \"relational\": the list of data is identified with some unique index (like a `SQL` table)\n",
    "* \"labeled\": the list is identified with a key, like the previous `odd` or `even` keys.\n",
    "\n",
    "\n",
    "\n",
    "### Recommend textbook\n",
    "A good and practice book about `Pandas` possibilities is:\n",
    "\n",
    "[__Python for Data Analysis__](https://drive.google.com/open?id=0BxoOXsn2EUNIWExXbVc4SDN0YTQ)<br/>\n",
    "Data Wrangling with Pandas, NumPy, and IPython<br/>\n",
    "_By William McKinney_"
   ]
  },
  {
   "cell_type": "markdown",
   "metadata": {
    "heading_collapsed": true
   },
   "source": [
    "## Standard way to load the module"
   ]
  },
  {
   "cell_type": "code",
   "execution_count": 1,
   "metadata": {
    "collapsed": true,
    "hidden": true
   },
   "outputs": [],
   "source": [
    "import pandas as pd"
   ]
  },
  {
   "cell_type": "markdown",
   "metadata": {
    "heading_collapsed": true
   },
   "source": [
    "## Data structures"
   ]
  },
  {
   "cell_type": "markdown",
   "metadata": {
    "hidden": true
   },
   "source": [
    "`Pandas` has two new data structures:\n",
    "* `Series` which are similar to dictionaries\n",
    "* `DataFrame` which are similar to dictionary lists."
   ]
  },
  {
   "cell_type": "markdown",
   "metadata": {
    "heading_collapsed": true,
    "hidden": true
   },
   "source": [
    "### DataFrame\n",
    "A row in a two-dimensional `DataFrame` corresponds to `Series` with the same keys of the `DataFrame`, but with single values instead of a list "
   ]
  },
  {
   "cell_type": "code",
   "execution_count": 53,
   "metadata": {
    "hidden": true
   },
   "outputs": [
    {
     "data": {
      "text/html": [
       "<div>\n",
       "<table border=\"1\" class=\"dataframe\">\n",
       "  <thead>\n",
       "    <tr style=\"text-align: right;\">\n",
       "      <th></th>\n",
       "      <th>even</th>\n",
       "      <th>odd</th>\n",
       "    </tr>\n",
       "  </thead>\n",
       "  <tbody>\n",
       "    <tr>\n",
       "      <th>0</th>\n",
       "      <td>0</td>\n",
       "      <td>1</td>\n",
       "    </tr>\n",
       "  </tbody>\n",
       "</table>\n",
       "</div>"
      ],
      "text/plain": [
       "   even  odd\n",
       "0     0    1"
      ]
     },
     "execution_count": 53,
     "metadata": {},
     "output_type": "execute_result"
    }
   ],
   "source": [
    "df.loc[[0]]"
   ]
  },
  {
   "cell_type": "code",
   "execution_count": 54,
   "metadata": {
    "hidden": true
   },
   "outputs": [
    {
     "data": {
      "text/plain": [
       "array([[0, 1]])"
      ]
     },
     "execution_count": 54,
     "metadata": {},
     "output_type": "execute_result"
    }
   ],
   "source": [
    "df.loc[[0]].values"
   ]
  },
  {
   "cell_type": "code",
   "execution_count": 55,
   "metadata": {
    "hidden": true
   },
   "outputs": [
    {
     "name": "stdout",
     "output_type": "stream",
     "text": [
      "the row has\n",
      "                  keys: ['even', 'odd'] and values: [0 1]\n",
      "like the dictionay:\n",
      "                      { 'even' : 0, 'odd' : 1 }\n"
     ]
    }
   ],
   "source": [
    "print( 'the row has' )\n",
    "print( '                  keys: {} and values: {}'.format( list( df.loc[[0]].keys() ),df.loc[[0]].values[0]  ) )\n",
    "print( \"like the dictionay:\" )\n",
    "print( \"                      { 'even' : 0, 'odd' : 1 }\")"
   ]
  },
  {
   "cell_type": "markdown",
   "metadata": {
    "hidden": true
   },
   "source": [
    "while the columns are dictionary with the indeces as the keys. \n",
    "\n",
    "An example of a  `DataFrame` is a spreadsheet."
   ]
  },
  {
   "cell_type": "code",
   "execution_count": 56,
   "metadata": {
    "hidden": true
   },
   "outputs": [
    {
     "data": {
      "text/html": [
       "<div>\n",
       "<table border=\"1\" class=\"dataframe\">\n",
       "  <thead>\n",
       "    <tr style=\"text-align: right;\">\n",
       "      <th></th>\n",
       "      <th>even</th>\n",
       "    </tr>\n",
       "  </thead>\n",
       "  <tbody>\n",
       "    <tr>\n",
       "      <th>0</th>\n",
       "      <td>0</td>\n",
       "    </tr>\n",
       "    <tr>\n",
       "      <th>1</th>\n",
       "      <td>2</td>\n",
       "    </tr>\n",
       "    <tr>\n",
       "      <th>2</th>\n",
       "      <td>4</td>\n",
       "    </tr>\n",
       "    <tr>\n",
       "      <th>3</th>\n",
       "      <td>6</td>\n",
       "    </tr>\n",
       "    <tr>\n",
       "      <th>4</th>\n",
       "      <td>8</td>\n",
       "    </tr>\n",
       "  </tbody>\n",
       "</table>\n",
       "</div>"
      ],
      "text/plain": [
       "   even\n",
       "0     0\n",
       "1     2\n",
       "2     4\n",
       "3     6\n",
       "4     8"
      ]
     },
     "execution_count": 56,
     "metadata": {},
     "output_type": "execute_result"
    }
   ],
   "source": [
    "df[['even']]"
   ]
  },
  {
   "cell_type": "code",
   "execution_count": 57,
   "metadata": {
    "hidden": true
   },
   "outputs": [
    {
     "name": "stdout",
     "output_type": "stream",
     "text": [
      "the column even has\n",
      "                  keys: [0, 1, 2, 3, 4] and values: [0 2 4 6 8]\n",
      "like the dictionay:\n",
      "                      { 0 : 0, 1 : 2, 2 : 4, 3 : 6, 4 : 8 }\n"
     ]
    }
   ],
   "source": [
    "print( 'the column even has' )\n",
    "print( '                  keys: {} and values: {}'.format( list( df.even.keys() ),df.even.values  ) )\n",
    "print( \"like the dictionay:\" )\n",
    "print( \"                      { 0 : 0, 1 : 2, 2 : 4, 3 : 6, 4 : 8 }\")"
   ]
  },
  {
   "cell_type": "markdown",
   "metadata": {
    "heading_collapsed": true,
    "hidden": true
   },
   "source": [
    "### `Series`"
   ]
  },
  {
   "cell_type": "markdown",
   "metadata": {
    "hidden": true
   },
   "source": [
    "A `Pandas` `Series` object can be just initialized from a `Python` dictionary:"
   ]
  },
  {
   "cell_type": "code",
   "execution_count": 34,
   "metadata": {
    "hidden": true
   },
   "outputs": [
    {
     "data": {
      "text/plain": [
       "Age                     23\n",
       "Nacionality       Colombia\n",
       "Name           Juan Valdez\n",
       "dtype: object"
      ]
     },
     "execution_count": 34,
     "metadata": {},
     "output_type": "execute_result"
    }
   ],
   "source": [
    "s=pd.Series({'Name':'Juan Valdez','Nacionality':'Colombia','Age':23})\n",
    "s"
   ]
  },
  {
   "cell_type": "markdown",
   "metadata": {
    "hidden": true
   },
   "source": [
    "and can be used as such dictionaries"
   ]
  },
  {
   "cell_type": "code",
   "execution_count": 35,
   "metadata": {
    "hidden": true
   },
   "outputs": [
    {
     "data": {
      "text/plain": [
       "'Juan Valdez'"
      ]
     },
     "execution_count": 35,
     "metadata": {},
     "output_type": "execute_result"
    }
   ],
   "source": [
    "s['Name']"
   ]
  },
  {
   "cell_type": "markdown",
   "metadata": {
    "hidden": true
   },
   "source": [
    "but also as containers of name spaces!"
   ]
  },
  {
   "cell_type": "code",
   "execution_count": 36,
   "metadata": {
    "hidden": true
   },
   "outputs": [
    {
     "data": {
      "text/plain": [
       "'Juan Valdez'"
      ]
     },
     "execution_count": 36,
     "metadata": {},
     "output_type": "execute_result"
    }
   ],
   "source": [
    "s.Name"
   ]
  },
  {
   "cell_type": "markdown",
   "metadata": {
    "heading_collapsed": true
   },
   "source": [
    "## `DataFrame` Initialization"
   ]
  },
  {
   "cell_type": "markdown",
   "metadata": {
    "heading_collapsed": true,
    "hidden": true
   },
   "source": [
    "### Initization from an existing spreadsheet. \n",
    "This can be locally in your computer o from some downloadable  link"
   ]
  },
  {
   "cell_type": "code",
   "execution_count": 60,
   "metadata": {
    "hidden": true
   },
   "outputs": [
    {
     "data": {
      "text/html": [
       "<div>\n",
       "<table border=\"1\" class=\"dataframe\">\n",
       "  <thead>\n",
       "    <tr style=\"text-align: right;\">\n",
       "      <th></th>\n",
       "      <th>Nombre</th>\n",
       "      <th>Edad</th>\n",
       "      <th>Compañia</th>\n",
       "    </tr>\n",
       "  </thead>\n",
       "  <tbody>\n",
       "    <tr>\n",
       "      <th>0</th>\n",
       "      <td>Juan Valdez</td>\n",
       "      <td>23</td>\n",
       "      <td>Café de Colombia</td>\n",
       "    </tr>\n",
       "    <tr>\n",
       "      <th>1</th>\n",
       "      <td>Álvaro Uribe Vélez</td>\n",
       "      <td>65</td>\n",
       "      <td>Senado de la República</td>\n",
       "    </tr>\n",
       "  </tbody>\n",
       "</table>\n",
       "</div>"
      ],
      "text/plain": [
       "               Nombre  Edad                Compañia\n",
       "0         Juan Valdez    23        Café de Colombia\n",
       "1  Álvaro Uribe Vélez    65  Senado de la República"
      ]
     },
     "execution_count": 60,
     "metadata": {},
     "output_type": "execute_result"
    }
   ],
   "source": [
    "df=pd.read_excel('http://bit.ly/spreadsheet_xlsx')\n",
    "df"
   ]
  },
  {
   "cell_type": "markdown",
   "metadata": {
    "hidden": true
   },
   "source": [
    "To make a downloadable link for any spread sheet in Google Drive, follow the sequence:\n",
    "```\n",
    "File → Publish to the web...→ Entire Document → Web page → Microsoft excel (xlsx)\n",
    "```\n",
    "as illustrated in the figure:\n",
    "![GS](./img/img1.png)"
   ]
  },
  {
   "cell_type": "markdown",
   "metadata": {
    "hidden": true
   },
   "source": [
    "After some modification"
   ]
  },
  {
   "cell_type": "code",
   "execution_count": 64,
   "metadata": {
    "hidden": true
   },
   "outputs": [
    {
     "data": {
      "text/html": [
       "<div>\n",
       "<table border=\"1\" class=\"dataframe\">\n",
       "  <thead>\n",
       "    <tr style=\"text-align: right;\">\n",
       "      <th></th>\n",
       "      <th>Nombre</th>\n",
       "      <th>Edad</th>\n",
       "      <th>Compañia</th>\n",
       "    </tr>\n",
       "  </thead>\n",
       "  <tbody>\n",
       "    <tr>\n",
       "      <th>0</th>\n",
       "      <td>Juan Valdez</td>\n",
       "      <td>32</td>\n",
       "      <td>Café de Colombia</td>\n",
       "    </tr>\n",
       "    <tr>\n",
       "      <th>1</th>\n",
       "      <td>Álvaro Uribe Vélez</td>\n",
       "      <td>65</td>\n",
       "      <td>Senado de la República</td>\n",
       "    </tr>\n",
       "  </tbody>\n",
       "</table>\n",
       "</div>"
      ],
      "text/plain": [
       "               Nombre  Edad                Compañia\n",
       "0         Juan Valdez    32        Café de Colombia\n",
       "1  Álvaro Uribe Vélez    65  Senado de la República"
      ]
     },
     "execution_count": 64,
     "metadata": {},
     "output_type": "execute_result"
    }
   ],
   "source": [
    "df.loc[0,'Edad']=32\n",
    "df"
   ]
  },
  {
   "cell_type": "markdown",
   "metadata": {
    "hidden": true
   },
   "source": [
    "it can be saved again as an `excel file` with the option to not create a column of indices: `index=False`"
   ]
  },
  {
   "cell_type": "code",
   "execution_count": 65,
   "metadata": {
    "hidden": true
   },
   "outputs": [],
   "source": [
    "df.to_excel('personajes.xlsx',index=False)"
   ]
  },
  {
   "cell_type": "markdown",
   "metadata": {
    "hidden": true
   },
   "source": [
    "__Activity__: Adter the previous execution, load the file `personajes.xlsx`"
   ]
  },
  {
   "cell_type": "markdown",
   "metadata": {
    "heading_collapsed": true,
    "hidden": true
   },
   "source": [
    "### Initialization from sequential rows as  Series\n",
    "We start with an empty `DataFrame`:"
   ]
  },
  {
   "cell_type": "code",
   "execution_count": 37,
   "metadata": {
    "hidden": true
   },
   "outputs": [
    {
     "data": {
      "text/html": [
       "<div>\n",
       "<table border=\"1\" class=\"dataframe\">\n",
       "  <thead>\n",
       "    <tr style=\"text-align: right;\">\n",
       "      <th></th>\n",
       "    </tr>\n",
       "  </thead>\n",
       "  <tbody>\n",
       "  </tbody>\n",
       "</table>\n",
       "</div>"
      ],
      "text/plain": [
       "Empty DataFrame\n",
       "Columns: []\n",
       "Index: []"
      ]
     },
     "execution_count": 37,
     "metadata": {},
     "output_type": "execute_result"
    }
   ],
   "source": [
    "df=pd.DataFrame()\n",
    "df"
   ]
  },
  {
   "cell_type": "markdown",
   "metadata": {
    "hidden": true
   },
   "source": [
    "We can append a `Series` as a row of the `DataFrame`, provided that we always use the option: `ignore_index=True`"
   ]
  },
  {
   "cell_type": "code",
   "execution_count": 38,
   "metadata": {
    "hidden": true
   },
   "outputs": [
    {
     "data": {
      "text/html": [
       "<div>\n",
       "<table border=\"1\" class=\"dataframe\">\n",
       "  <thead>\n",
       "    <tr style=\"text-align: right;\">\n",
       "      <th></th>\n",
       "      <th>Age</th>\n",
       "      <th>Nacionality</th>\n",
       "      <th>Name</th>\n",
       "    </tr>\n",
       "  </thead>\n",
       "  <tbody>\n",
       "    <tr>\n",
       "      <th>0</th>\n",
       "      <td>23.0</td>\n",
       "      <td>Colombia</td>\n",
       "      <td>Juan Valdez</td>\n",
       "    </tr>\n",
       "  </tbody>\n",
       "</table>\n",
       "</div>"
      ],
      "text/plain": [
       "    Age Nacionality         Name\n",
       "0  23.0    Colombia  Juan Valdez"
      ]
     },
     "execution_count": 38,
     "metadata": {},
     "output_type": "execute_result"
    }
   ],
   "source": [
    "df=df.append(s,ignore_index=True)\n",
    "df"
   ]
  },
  {
   "cell_type": "markdown",
   "metadata": {
    "hidden": true
   },
   "source": [
    "We can fix the type of data of the `'Age'` column"
   ]
  },
  {
   "cell_type": "code",
   "execution_count": 7,
   "metadata": {
    "hidden": true
   },
   "outputs": [
    {
     "data": {
      "text/plain": [
       "pandas.core.series.Series"
      ]
     },
     "execution_count": 7,
     "metadata": {},
     "output_type": "execute_result"
    }
   ],
   "source": [
    "type(df.Age)"
   ]
  },
  {
   "cell_type": "code",
   "execution_count": 8,
   "metadata": {
    "hidden": true
   },
   "outputs": [
    {
     "data": {
      "text/html": [
       "<div>\n",
       "<table border=\"1\" class=\"dataframe\">\n",
       "  <thead>\n",
       "    <tr style=\"text-align: right;\">\n",
       "      <th></th>\n",
       "      <th>Age</th>\n",
       "      <th>Nacionality</th>\n",
       "      <th>Name</th>\n",
       "    </tr>\n",
       "  </thead>\n",
       "  <tbody>\n",
       "    <tr>\n",
       "      <th>0</th>\n",
       "      <td>23</td>\n",
       "      <td>Colombia</td>\n",
       "      <td>Juan Valdez</td>\n",
       "    </tr>\n",
       "  </tbody>\n",
       "</table>\n",
       "</div>"
      ],
      "text/plain": [
       "   Age Nacionality         Name\n",
       "0   23    Colombia  Juan Valdez"
      ]
     },
     "execution_count": 8,
     "metadata": {},
     "output_type": "execute_result"
    }
   ],
   "source": [
    "df['Age']=df.Age.astype(int)\n",
    "df"
   ]
  },
  {
   "cell_type": "markdown",
   "metadata": {
    "hidden": true
   },
   "source": [
    "To add a second row we can build another `Series`\n",
    "__Activity__: Fill the fields to be generated after the execution of the next cell, and make the __Exercises__"
   ]
  },
  {
   "cell_type": "code",
   "execution_count": null,
   "metadata": {
    "hidden": true
   },
   "outputs": [],
   "source": [
    "s=pd.Series()\n",
    "for k in ['Name','Nacionality','Age','Company']:\n",
    "    var=input('{}:\\n'.format(k))\n",
    "    s[k]=var"
   ]
  },
  {
   "cell_type": "markdown",
   "metadata": {
    "hidden": true
   },
   "source": [
    "#### Exercises\n",
    "* Display the resulting `Series` in the screen:"
   ]
  },
  {
   "cell_type": "code",
   "execution_count": null,
   "metadata": {
    "collapsed": true,
    "hidden": true
   },
   "outputs": [],
   "source": []
  },
  {
   "cell_type": "markdown",
   "metadata": {
    "hidden": true
   },
   "source": [
    "* Append to the previous `DataFrame` y visualizarlo:"
   ]
  },
  {
   "cell_type": "code",
   "execution_count": null,
   "metadata": {
    "collapsed": true,
    "hidden": true
   },
   "outputs": [],
   "source": []
  },
  {
   "cell_type": "markdown",
   "metadata": {
    "hidden": true
   },
   "source": [
    "* Fill NaN with empty strings"
   ]
  },
  {
   "cell_type": "code",
   "execution_count": 16,
   "metadata": {
    "collapsed": true,
    "hidden": true
   },
   "outputs": [],
   "source": []
  },
  {
   "cell_type": "markdown",
   "metadata": {
    "hidden": true
   },
   "source": [
    "* Save `Pandas` `DataFrame` as an Excel file"
   ]
  },
  {
   "cell_type": "code",
   "execution_count": 21,
   "metadata": {
    "collapsed": true,
    "hidden": true
   },
   "outputs": [],
   "source": []
  },
  {
   "cell_type": "markdown",
   "metadata": {
    "hidden": true
   },
   "source": [
    "* Load pandas DataFrame from the saved file in Excel"
   ]
  },
  {
   "cell_type": "markdown",
   "metadata": {
    "heading_collapsed": true
   },
   "source": [
    "## Beyond excel\n",
    "The paradigm of dictionary of list is not well suited for excel. A list inside a dictionary is seen by excel as a string. \n",
    "\n",
    "It is however the core of the design of the `JSON` format, which preserver the types of variables inside the dictionaries!. In fact, this notebook itself is really a document in JSON format which can be seen before processing by jupyter  from [here](https://raw.githubusercontent.com/restrepo/data-analysis/master/Pandas.ipynb).\n",
    "\n",
    "The dictionary can be converted into a string "
   ]
  },
  {
   "cell_type": "code",
   "execution_count": 34,
   "metadata": {
    "hidden": true
   },
   "outputs": [
    {
     "data": {
      "text/plain": [
       "\"{'odd': [1, 3, 5, 7, 9], 'even': [0, 2, 4, 6, 8]}\""
      ]
     },
     "execution_count": 34,
     "metadata": {},
     "output_type": "execute_result"
    }
   ],
   "source": [
    "str(numbers)"
   ]
  },
  {
   "cell_type": "markdown",
   "metadata": {
    "hidden": true
   },
   "source": [
    "This string can be writing in the `JSON` format by replacing the single quotes, ' , by  duoble quotes, \":"
   ]
  },
  {
   "cell_type": "code",
   "execution_count": 36,
   "metadata": {
    "hidden": true
   },
   "outputs": [
    {
     "data": {
      "text/plain": [
       "'{\"odd\": [1, 3, 5, 7, 9], \"even\": [0, 2, 4, 6, 8]}'"
      ]
     },
     "execution_count": 36,
     "metadata": {},
     "output_type": "execute_result"
    }
   ],
   "source": [
    "str(numbers).replace(\"'\",'\"')"
   ]
  },
  {
   "cell_type": "markdown",
   "metadata": {
    "hidden": true
   },
   "source": [
    "This can be read from PANDAS as 'JSON' object:"
   ]
  },
  {
   "cell_type": "code",
   "execution_count": 37,
   "metadata": {
    "hidden": true
   },
   "outputs": [
    {
     "data": {
      "text/html": [
       "<div>\n",
       "<table border=\"1\" class=\"dataframe\">\n",
       "  <thead>\n",
       "    <tr style=\"text-align: right;\">\n",
       "      <th></th>\n",
       "      <th>even</th>\n",
       "      <th>odd</th>\n",
       "    </tr>\n",
       "  </thead>\n",
       "  <tbody>\n",
       "    <tr>\n",
       "      <th>0</th>\n",
       "      <td>0</td>\n",
       "      <td>1</td>\n",
       "    </tr>\n",
       "    <tr>\n",
       "      <th>1</th>\n",
       "      <td>2</td>\n",
       "      <td>3</td>\n",
       "    </tr>\n",
       "    <tr>\n",
       "      <th>2</th>\n",
       "      <td>4</td>\n",
       "      <td>5</td>\n",
       "    </tr>\n",
       "    <tr>\n",
       "      <th>3</th>\n",
       "      <td>6</td>\n",
       "      <td>7</td>\n",
       "    </tr>\n",
       "    <tr>\n",
       "      <th>4</th>\n",
       "      <td>8</td>\n",
       "      <td>9</td>\n",
       "    </tr>\n",
       "  </tbody>\n",
       "</table>\n",
       "</div>"
      ],
      "text/plain": [
       "   even  odd\n",
       "0     0    1\n",
       "1     2    3\n",
       "2     4    5\n",
       "3     6    7\n",
       "4     8    9"
      ]
     },
     "execution_count": 37,
     "metadata": {},
     "output_type": "execute_result"
    }
   ],
   "source": [
    "pd.read_json(  str(numbers).replace(\"'\",'\"') )"
   ]
  },
  {
   "cell_type": "markdown",
   "metadata": {
    "heading_collapsed": true,
    "hidden": true
   },
   "source": [
    "### JSON\n",
    "There are really three kinds of web\n",
    "* the normal web, \n",
    "* the deep web,\n",
    "* _the machine web_. The web for machine readable responses. It is served in `JSON` or `XML`  formats, which preserve programming objects.\n",
    "\n",
    "For example the crossref includes an API to give the metada of a DOI. An example of  link for the machine web is the one for the DOI: 10.1103/PhysRevD.95.095034\n",
    "\n",
    "[https://api.crossref.org/works/10.1103/PhysRevD.95.095034](https://api.crossref.org/works/10.1103/PhysRevD.95.095034)"
   ]
  },
  {
   "cell_type": "code",
   "execution_count": 47,
   "metadata": {
    "hidden": true
   },
   "outputs": [
    {
     "data": {
      "text/html": [
       "<div>\n",
       "<table border=\"1\" class=\"dataframe\">\n",
       "  <thead>\n",
       "    <tr style=\"text-align: right;\">\n",
       "      <th></th>\n",
       "      <th>message</th>\n",
       "      <th>message-type</th>\n",
       "      <th>message-version</th>\n",
       "      <th>status</th>\n",
       "    </tr>\n",
       "  </thead>\n",
       "  <tbody>\n",
       "    <tr>\n",
       "      <th>DOI</th>\n",
       "      <td>10.1103/physrevd.95.095034</td>\n",
       "      <td>work</td>\n",
       "      <td>1.0.0</td>\n",
       "      <td>ok</td>\n",
       "    </tr>\n",
       "    <tr>\n",
       "      <th>ISSN</th>\n",
       "      <td>[2470-0010, 2470-0029]</td>\n",
       "      <td>work</td>\n",
       "      <td>1.0.0</td>\n",
       "      <td>ok</td>\n",
       "    </tr>\n",
       "    <tr>\n",
       "      <th>URL</th>\n",
       "      <td>http://dx.doi.org/10.1103/physrevd.95.095034</td>\n",
       "      <td>work</td>\n",
       "      <td>1.0.0</td>\n",
       "      <td>ok</td>\n",
       "    </tr>\n",
       "    <tr>\n",
       "      <th>article-number</th>\n",
       "      <td>095034</td>\n",
       "      <td>work</td>\n",
       "      <td>1.0.0</td>\n",
       "      <td>ok</td>\n",
       "    </tr>\n",
       "    <tr>\n",
       "      <th>author</th>\n",
       "      <td>[{'given': 'Carolina', 'family': 'Arbeláez', '...</td>\n",
       "      <td>work</td>\n",
       "      <td>1.0.0</td>\n",
       "      <td>ok</td>\n",
       "    </tr>\n",
       "    <tr>\n",
       "      <th>container-title</th>\n",
       "      <td>[Physical Review D]</td>\n",
       "      <td>work</td>\n",
       "      <td>1.0.0</td>\n",
       "      <td>ok</td>\n",
       "    </tr>\n",
       "    <tr>\n",
       "      <th>content-domain</th>\n",
       "      <td>{'crossmark-restriction': False, 'domain': []}</td>\n",
       "      <td>work</td>\n",
       "      <td>1.0.0</td>\n",
       "      <td>ok</td>\n",
       "    </tr>\n",
       "    <tr>\n",
       "      <th>created</th>\n",
       "      <td>{'timestamp': 1496282928000, 'date-time': '201...</td>\n",
       "      <td>work</td>\n",
       "      <td>1.0.0</td>\n",
       "      <td>ok</td>\n",
       "    </tr>\n",
       "    <tr>\n",
       "      <th>deposited</th>\n",
       "      <td>{'timestamp': 1496283034000, 'date-time': '201...</td>\n",
       "      <td>work</td>\n",
       "      <td>1.0.0</td>\n",
       "      <td>ok</td>\n",
       "    </tr>\n",
       "    <tr>\n",
       "      <th>funder</th>\n",
       "      <td>[{'award': ['FB0821', 'ACT1406'], 'DOI': '10.1...</td>\n",
       "      <td>work</td>\n",
       "      <td>1.0.0</td>\n",
       "      <td>ok</td>\n",
       "    </tr>\n",
       "    <tr>\n",
       "      <th>indexed</th>\n",
       "      <td>{'timestamp': 1521754947467, 'date-time': '201...</td>\n",
       "      <td>work</td>\n",
       "      <td>1.0.0</td>\n",
       "      <td>ok</td>\n",
       "    </tr>\n",
       "    <tr>\n",
       "      <th>is-referenced-by-count</th>\n",
       "      <td>3</td>\n",
       "      <td>work</td>\n",
       "      <td>1.0.0</td>\n",
       "      <td>ok</td>\n",
       "    </tr>\n",
       "    <tr>\n",
       "      <th>issn-type</th>\n",
       "      <td>[{'value': '2470-0010', 'type': 'print'}, {'va...</td>\n",
       "      <td>work</td>\n",
       "      <td>1.0.0</td>\n",
       "      <td>ok</td>\n",
       "    </tr>\n",
       "    <tr>\n",
       "      <th>issue</th>\n",
       "      <td>9</td>\n",
       "      <td>work</td>\n",
       "      <td>1.0.0</td>\n",
       "      <td>ok</td>\n",
       "    </tr>\n",
       "    <tr>\n",
       "      <th>issued</th>\n",
       "      <td>{'date-parts': [[2017, 5, 31]]}</td>\n",
       "      <td>work</td>\n",
       "      <td>1.0.0</td>\n",
       "      <td>ok</td>\n",
       "    </tr>\n",
       "    <tr>\n",
       "      <th>license</th>\n",
       "      <td>[{'start': {'timestamp': 1496188800000, 'date-...</td>\n",
       "      <td>work</td>\n",
       "      <td>1.0.0</td>\n",
       "      <td>ok</td>\n",
       "    </tr>\n",
       "    <tr>\n",
       "      <th>link</th>\n",
       "      <td>[{'intended-application': 'syndication', 'URL'...</td>\n",
       "      <td>work</td>\n",
       "      <td>1.0.0</td>\n",
       "      <td>ok</td>\n",
       "    </tr>\n",
       "    <tr>\n",
       "      <th>member</th>\n",
       "      <td>16</td>\n",
       "      <td>work</td>\n",
       "      <td>1.0.0</td>\n",
       "      <td>ok</td>\n",
       "    </tr>\n",
       "    <tr>\n",
       "      <th>original-title</th>\n",
       "      <td>[]</td>\n",
       "      <td>work</td>\n",
       "      <td>1.0.0</td>\n",
       "      <td>ok</td>\n",
       "    </tr>\n",
       "    <tr>\n",
       "      <th>prefix</th>\n",
       "      <td>10.1103</td>\n",
       "      <td>work</td>\n",
       "      <td>1.0.0</td>\n",
       "      <td>ok</td>\n",
       "    </tr>\n",
       "    <tr>\n",
       "      <th>published-online</th>\n",
       "      <td>{'date-parts': [[2017, 5, 31]]}</td>\n",
       "      <td>work</td>\n",
       "      <td>1.0.0</td>\n",
       "      <td>ok</td>\n",
       "    </tr>\n",
       "    <tr>\n",
       "      <th>publisher</th>\n",
       "      <td>American Physical Society (APS)</td>\n",
       "      <td>work</td>\n",
       "      <td>1.0.0</td>\n",
       "      <td>ok</td>\n",
       "    </tr>\n",
       "    <tr>\n",
       "      <th>reference</th>\n",
       "      <td>[{'key': 'PhysRevD.95.095034Cc1R1', 'DOI': '10...</td>\n",
       "      <td>work</td>\n",
       "      <td>1.0.0</td>\n",
       "      <td>ok</td>\n",
       "    </tr>\n",
       "    <tr>\n",
       "      <th>reference-count</th>\n",
       "      <td>46</td>\n",
       "      <td>work</td>\n",
       "      <td>1.0.0</td>\n",
       "      <td>ok</td>\n",
       "    </tr>\n",
       "    <tr>\n",
       "      <th>references-count</th>\n",
       "      <td>46</td>\n",
       "      <td>work</td>\n",
       "      <td>1.0.0</td>\n",
       "      <td>ok</td>\n",
       "    </tr>\n",
       "    <tr>\n",
       "      <th>relation</th>\n",
       "      <td>{'cites': []}</td>\n",
       "      <td>work</td>\n",
       "      <td>1.0.0</td>\n",
       "      <td>ok</td>\n",
       "    </tr>\n",
       "    <tr>\n",
       "      <th>score</th>\n",
       "      <td>1</td>\n",
       "      <td>work</td>\n",
       "      <td>1.0.0</td>\n",
       "      <td>ok</td>\n",
       "    </tr>\n",
       "    <tr>\n",
       "      <th>short-container-title</th>\n",
       "      <td>[Phys. Rev. D]</td>\n",
       "      <td>work</td>\n",
       "      <td>1.0.0</td>\n",
       "      <td>ok</td>\n",
       "    </tr>\n",
       "    <tr>\n",
       "      <th>short-title</th>\n",
       "      <td>[]</td>\n",
       "      <td>work</td>\n",
       "      <td>1.0.0</td>\n",
       "      <td>ok</td>\n",
       "    </tr>\n",
       "    <tr>\n",
       "      <th>source</th>\n",
       "      <td>Crossref</td>\n",
       "      <td>work</td>\n",
       "      <td>1.0.0</td>\n",
       "      <td>ok</td>\n",
       "    </tr>\n",
       "    <tr>\n",
       "      <th>subject</th>\n",
       "      <td>[Physics and Astronomy (miscellaneous)]</td>\n",
       "      <td>work</td>\n",
       "      <td>1.0.0</td>\n",
       "      <td>ok</td>\n",
       "    </tr>\n",
       "    <tr>\n",
       "      <th>subtitle</th>\n",
       "      <td>[]</td>\n",
       "      <td>work</td>\n",
       "      <td>1.0.0</td>\n",
       "      <td>ok</td>\n",
       "    </tr>\n",
       "    <tr>\n",
       "      <th>title</th>\n",
       "      <td>[Fermionic triplet dark matter in an \\nSO(10)\\...</td>\n",
       "      <td>work</td>\n",
       "      <td>1.0.0</td>\n",
       "      <td>ok</td>\n",
       "    </tr>\n",
       "    <tr>\n",
       "      <th>type</th>\n",
       "      <td>journal-article</td>\n",
       "      <td>work</td>\n",
       "      <td>1.0.0</td>\n",
       "      <td>ok</td>\n",
       "    </tr>\n",
       "    <tr>\n",
       "      <th>volume</th>\n",
       "      <td>95</td>\n",
       "      <td>work</td>\n",
       "      <td>1.0.0</td>\n",
       "      <td>ok</td>\n",
       "    </tr>\n",
       "  </tbody>\n",
       "</table>\n",
       "</div>"
      ],
      "text/plain": [
       "                                                                  message  \\\n",
       "DOI                                            10.1103/physrevd.95.095034   \n",
       "ISSN                                               [2470-0010, 2470-0029]   \n",
       "URL                          http://dx.doi.org/10.1103/physrevd.95.095034   \n",
       "article-number                                                     095034   \n",
       "author                  [{'given': 'Carolina', 'family': 'Arbeláez', '...   \n",
       "container-title                                       [Physical Review D]   \n",
       "content-domain             {'crossmark-restriction': False, 'domain': []}   \n",
       "created                 {'timestamp': 1496282928000, 'date-time': '201...   \n",
       "deposited               {'timestamp': 1496283034000, 'date-time': '201...   \n",
       "funder                  [{'award': ['FB0821', 'ACT1406'], 'DOI': '10.1...   \n",
       "indexed                 {'timestamp': 1521754947467, 'date-time': '201...   \n",
       "is-referenced-by-count                                                  3   \n",
       "issn-type               [{'value': '2470-0010', 'type': 'print'}, {'va...   \n",
       "issue                                                                   9   \n",
       "issued                                    {'date-parts': [[2017, 5, 31]]}   \n",
       "license                 [{'start': {'timestamp': 1496188800000, 'date-...   \n",
       "link                    [{'intended-application': 'syndication', 'URL'...   \n",
       "member                                                                 16   \n",
       "original-title                                                         []   \n",
       "prefix                                                            10.1103   \n",
       "published-online                          {'date-parts': [[2017, 5, 31]]}   \n",
       "publisher                                 American Physical Society (APS)   \n",
       "reference               [{'key': 'PhysRevD.95.095034Cc1R1', 'DOI': '10...   \n",
       "reference-count                                                        46   \n",
       "references-count                                                       46   \n",
       "relation                                                    {'cites': []}   \n",
       "score                                                                   1   \n",
       "short-container-title                                      [Phys. Rev. D]   \n",
       "short-title                                                            []   \n",
       "source                                                           Crossref   \n",
       "subject                           [Physics and Astronomy (miscellaneous)]   \n",
       "subtitle                                                               []   \n",
       "title                   [Fermionic triplet dark matter in an \\nSO(10)\\...   \n",
       "type                                                      journal-article   \n",
       "volume                                                                 95   \n",
       "\n",
       "                       message-type message-version status  \n",
       "DOI                            work           1.0.0     ok  \n",
       "ISSN                           work           1.0.0     ok  \n",
       "URL                            work           1.0.0     ok  \n",
       "article-number                 work           1.0.0     ok  \n",
       "author                         work           1.0.0     ok  \n",
       "container-title                work           1.0.0     ok  \n",
       "content-domain                 work           1.0.0     ok  \n",
       "created                        work           1.0.0     ok  \n",
       "deposited                      work           1.0.0     ok  \n",
       "funder                         work           1.0.0     ok  \n",
       "indexed                        work           1.0.0     ok  \n",
       "is-referenced-by-count         work           1.0.0     ok  \n",
       "issn-type                      work           1.0.0     ok  \n",
       "issue                          work           1.0.0     ok  \n",
       "issued                         work           1.0.0     ok  \n",
       "license                        work           1.0.0     ok  \n",
       "link                           work           1.0.0     ok  \n",
       "member                         work           1.0.0     ok  \n",
       "original-title                 work           1.0.0     ok  \n",
       "prefix                         work           1.0.0     ok  \n",
       "published-online               work           1.0.0     ok  \n",
       "publisher                      work           1.0.0     ok  \n",
       "reference                      work           1.0.0     ok  \n",
       "reference-count                work           1.0.0     ok  \n",
       "references-count               work           1.0.0     ok  \n",
       "relation                       work           1.0.0     ok  \n",
       "score                          work           1.0.0     ok  \n",
       "short-container-title          work           1.0.0     ok  \n",
       "short-title                    work           1.0.0     ok  \n",
       "source                         work           1.0.0     ok  \n",
       "subject                        work           1.0.0     ok  \n",
       "subtitle                       work           1.0.0     ok  \n",
       "title                          work           1.0.0     ok  \n",
       "type                           work           1.0.0     ok  \n",
       "volume                         work           1.0.0     ok  "
      ]
     },
     "execution_count": 47,
     "metadata": {},
     "output_type": "execute_result"
    }
   ],
   "source": [
    "doi"
   ]
  },
  {
   "cell_type": "code",
   "execution_count": 50,
   "metadata": {
    "hidden": true
   },
   "outputs": [
    {
     "data": {
      "text/html": [
       "<div>\n",
       "<table border=\"1\" class=\"dataframe\">\n",
       "  <thead>\n",
       "    <tr style=\"text-align: right;\">\n",
       "      <th></th>\n",
       "      <th>message</th>\n",
       "      <th>message-type</th>\n",
       "      <th>message-version</th>\n",
       "      <th>status</th>\n",
       "    </tr>\n",
       "  </thead>\n",
       "  <tbody>\n",
       "    <tr>\n",
       "      <th>reference</th>\n",
       "      <td>[{'key': 'PhysRevD.95.095034Cc1R1', 'DOI': '10...</td>\n",
       "      <td>work</td>\n",
       "      <td>1.0.0</td>\n",
       "      <td>ok</td>\n",
       "    </tr>\n",
       "  </tbody>\n",
       "</table>\n",
       "</div>"
      ],
      "text/plain": [
       "                                                     message message-type  \\\n",
       "reference  [{'key': 'PhysRevD.95.095034Cc1R1', 'DOI': '10...         work   \n",
       "\n",
       "          message-version status  \n",
       "reference           1.0.0     ok  "
      ]
     },
     "execution_count": 50,
     "metadata": {},
     "output_type": "execute_result"
    }
   ],
   "source": [
    "doi.loc[['reference']]"
   ]
  },
  {
   "cell_type": "code",
   "execution_count": 99,
   "metadata": {
    "hidden": true
   },
   "outputs": [
    {
     "data": {
      "text/plain": [
       "[{'DOI': '10.1088/1475-7516/2013/01/022',\n",
       "  'doi-asserted-by': 'publisher',\n",
       "  'key': 'PhysRevD.95.095034Cc1R1'},\n",
       " {'DOI': '10.1088/1475-7516/2012/04/010',\n",
       "  'doi-asserted-by': 'publisher',\n",
       "  'key': 'PhysRevD.95.095034Cc2R1'},\n",
       " {'DOI': '10.1103/PhysRevD.82.116003',\n",
       "  'doi-asserted-by': 'publisher',\n",
       "  'key': 'PhysRevD.95.095034Cc3R1'},\n",
       " {'DOI': '10.1007/JHEP05(2011)037',\n",
       "  'doi-asserted-by': 'publisher',\n",
       "  'key': 'PhysRevD.95.095034Cc4R1'},\n",
       " {'DOI': '10.1103/PhysRevD.81.015002',\n",
       "  'doi-asserted-by': 'publisher',\n",
       "  'key': 'PhysRevD.95.095034Cc5R1'},\n",
       " {'DOI': '10.1103/PhysRevD.80.085020',\n",
       "  'doi-asserted-by': 'publisher',\n",
       "  'key': 'PhysRevD.95.095034Cc6R1'},\n",
       " {'DOI': '10.1103/PhysRevD.81.029903',\n",
       "  'doi-asserted-by': 'publisher',\n",
       "  'key': 'PhysRevD.95.095034Cc6R2'},\n",
       " {'DOI': '10.1103/PhysRevD.81.075002',\n",
       "  'doi-asserted-by': 'publisher',\n",
       "  'key': 'PhysRevD.95.095034Cc7R1'},\n",
       " {'DOI': '10.1103/PhysRevD.12.1502',\n",
       "  'doi-asserted-by': 'publisher',\n",
       "  'key': 'PhysRevD.95.095034Cc8R1'},\n",
       " {'DOI': '10.1016/0370-2693(92)91077-M',\n",
       "  'doi-asserted-by': 'publisher',\n",
       "  'key': 'PhysRevD.95.095034Cc9R1'},\n",
       " {'DOI': '10.1103/PhysRevD.89.035002',\n",
       "  'doi-asserted-by': 'publisher',\n",
       "  'key': 'PhysRevD.95.095034Cc10R1'},\n",
       " {'DOI': '10.1103/PhysRevD.46.R2769',\n",
       "  'doi-asserted-by': 'publisher',\n",
       "  'key': 'PhysRevD.95.095034Cc11R1'},\n",
       " {'DOI': '10.1103/PhysRevD.93.111703',\n",
       "  'doi-asserted-by': 'publisher',\n",
       "  'key': 'PhysRevD.95.095034Cc12R1'},\n",
       " {'DOI': '10.1103/PhysRevLett.115.121804',\n",
       "  'doi-asserted-by': 'publisher',\n",
       "  'key': 'PhysRevD.95.095034Cc13R1'},\n",
       " {'DOI': '10.1088/1475-7516/2016/03/021',\n",
       "  'doi-asserted-by': 'publisher',\n",
       "  'key': 'PhysRevD.95.095034Cc15R1'},\n",
       " {'DOI': '10.1016/j.physletb.2016.02.008',\n",
       "  'doi-asserted-by': 'publisher',\n",
       "  'key': 'PhysRevD.95.095034Cc16R1'},\n",
       " {'DOI': '10.1103/PhysRevD.93.013012',\n",
       "  'doi-asserted-by': 'publisher',\n",
       "  'key': 'PhysRevD.95.095034Cc17R1'},\n",
       " {'DOI': '10.1088/1475-7516/2017/02/016',\n",
       "  'doi-asserted-by': 'publisher',\n",
       "  'key': 'PhysRevD.95.095034Cc18R1'},\n",
       " {'DOI': '10.1016/j.physletb.2016.03.048',\n",
       "  'doi-asserted-by': 'publisher',\n",
       "  'key': 'PhysRevD.95.095034Cc19R1'},\n",
       " {'DOI': '10.1103/PhysRevD.91.095010',\n",
       "  'doi-asserted-by': 'publisher',\n",
       "  'key': 'PhysRevD.95.095034Cc20R1'},\n",
       " {'DOI': '10.1007/JHEP11(2016)077',\n",
       "  'doi-asserted-by': 'publisher',\n",
       "  'key': 'PhysRevD.95.095034Cc21R1'},\n",
       " {'DOI': '10.1142/S0217732317400077',\n",
       "  'doi-asserted-by': 'publisher',\n",
       "  'key': 'PhysRevD.95.095034Cc22R1'},\n",
       " {'DOI': '10.1088/1475-7516/2016/06/016',\n",
       "  'doi-asserted-by': 'publisher',\n",
       "  'key': 'PhysRevD.95.095034Cc23R1'},\n",
       " {'DOI': '10.1103/PhysRevD.93.093001',\n",
       "  'doi-asserted-by': 'publisher',\n",
       "  'key': 'PhysRevD.95.095034Cc24R1'},\n",
       " {'DOI': '10.1103/PhysRevD.93.055015',\n",
       "  'doi-asserted-by': 'publisher',\n",
       "  'key': 'PhysRevD.95.095034Cc25R1'},\n",
       " {'DOI': '10.1103/PhysRevD.22.2227',\n",
       "  'doi-asserted-by': 'publisher',\n",
       "  'key': 'PhysRevD.95.095034Cc26R1'},\n",
       " {'DOI': '10.1007/978-1-4757-1928-4',\n",
       "  'author': 'R.\\u2009N. Mohapatra',\n",
       "  'doi-asserted-by': 'crossref',\n",
       "  'key': 'PhysRevD.95.095034Cc27R1',\n",
       "  'volume-title': 'Unification and Supersymmetry. The Frontiers of Quark-Lepton Physics',\n",
       "  'year': '1986'},\n",
       " {'DOI': '10.1103/PhysRevD.84.053012',\n",
       "  'doi-asserted-by': 'publisher',\n",
       "  'key': 'PhysRevD.95.095034Cc28R1'},\n",
       " {'DOI': '10.1103/PhysRevD.87.075010',\n",
       "  'doi-asserted-by': 'publisher',\n",
       "  'key': 'PhysRevD.95.095034Cc29R1'},\n",
       " {'DOI': '10.1016/j.physrep.2007.02.010',\n",
       "  'doi-asserted-by': 'publisher',\n",
       "  'key': 'PhysRevD.95.095034Cc30R1'},\n",
       " {'DOI': '10.1103/PhysRevLett.113.121802',\n",
       "  'doi-asserted-by': 'publisher',\n",
       "  'key': 'PhysRevD.95.095034Cc31R1'},\n",
       " {'DOI': '10.1016/j.cpc.2010.11.030',\n",
       "  'doi-asserted-by': 'publisher',\n",
       "  'key': 'PhysRevD.95.095034Cc32R1'},\n",
       " {'DOI': '10.1016/j.cpc.2010.01.011',\n",
       "  'doi-asserted-by': 'publisher',\n",
       "  'key': 'PhysRevD.95.095034Cc34R1'},\n",
       " {'DOI': '10.1140/epjc/s10052-016-4349-5',\n",
       "  'doi-asserted-by': 'publisher',\n",
       "  'key': 'PhysRevD.95.095034Cc35R1'},\n",
       " {'DOI': '10.1016/S0010-4655(03)00222-4',\n",
       "  'doi-asserted-by': 'publisher',\n",
       "  'key': 'PhysRevD.95.095034Cc36R1'},\n",
       " {'DOI': '10.1016/j.cpc.2012.05.021',\n",
       "  'doi-asserted-by': 'publisher',\n",
       "  'key': 'PhysRevD.95.095034Cc37R1'},\n",
       " {'DOI': '10.1016/j.cpc.2006.11.008',\n",
       "  'doi-asserted-by': 'publisher',\n",
       "  'key': 'PhysRevD.95.095034Cc38R1'},\n",
       " {'DOI': '10.1016/j.cpc.2010.10.025',\n",
       "  'doi-asserted-by': 'publisher',\n",
       "  'key': 'PhysRevD.95.095034Cc39R1'},\n",
       " {'DOI': '10.1016/j.cpc.2012.04.013',\n",
       "  'doi-asserted-by': 'publisher',\n",
       "  'key': 'PhysRevD.95.095034Cc40R1'},\n",
       " {'DOI': '10.1051/0004-6361/201321591',\n",
       "  'doi-asserted-by': 'publisher',\n",
       "  'key': 'PhysRevD.95.095034Cc41R1'},\n",
       " {'DOI': '10.1016/j.physletb.2017.02.010',\n",
       "  'doi-asserted-by': 'publisher',\n",
       "  'key': 'PhysRevD.95.095034Cc42R1'},\n",
       " {'DOI': '10.1103/PhysRevLett.112.091303',\n",
       "  'doi-asserted-by': 'publisher',\n",
       "  'key': 'PhysRevD.95.095034Cc43R1'},\n",
       " {'DOI': '10.1103/PhysRevLett.109.181301',\n",
       "  'doi-asserted-by': 'publisher',\n",
       "  'key': 'PhysRevD.95.095034Cc44R1'},\n",
       " {'DOI': '10.1007/978-94-007-7241-0',\n",
       "  'doi-asserted-by': 'publisher',\n",
       "  'key': 'PhysRevD.95.095034Cc45R1'},\n",
       " {'DOI': '10.1140/epjc/s10052-014-3149-z',\n",
       "  'doi-asserted-by': 'publisher',\n",
       "  'key': 'PhysRevD.95.095034Cc46R1'},\n",
       " {'author': 'T. Hambye',\n",
       "  'key': 'PhysRevD.95.095034Cc47R1',\n",
       "  'volume-title': 'Proc. Sci.'}]"
      ]
     },
     "execution_count": 99,
     "metadata": {},
     "output_type": "execute_result"
    }
   ],
   "source": [
    "doi.loc[['reference']]['message'][0]"
   ]
  },
  {
   "cell_type": "markdown",
   "metadata": {},
   "source": [
    "## Conclusion\n",
    "In an ideal world we would have access to the metadata of the all research articles, in an automated machine readable way.\n",
    "\n",
    "In [crossref](crossref.ipynb) we show that it is not the case for Redalyc journals.\n",
    "\n",
    "The references listed below allows to create [Networks](Network.ipynb) of articles, provided that they are well _normalized_.\n",
    "\n",
    "A real case scenario of obtain the metadata of _many_ research articles including references  is by means of the use of the  [Inspire HEP](inspire.ipynb), the information system for  High Energy Physics.\n",
    "\n",
    "Example of [advanced use](rg.ipynb)"
   ]
  },
  {
   "cell_type": "markdown",
   "metadata": {
    "collapsed": true
   },
   "source": [
    "##  ACTIVITIES\n",
    "See:\n",
    "* https://github.com/ajcr/100-pandas-puzzles\n",
    "* https://github.com/guipsamora/pandas_exercises"
   ]
  },
  {
   "cell_type": "markdown",
   "metadata": {
    "collapsed": true
   },
   "source": [
    "## Additional materials\n",
    "\n",
    "See [this help](https://restrepo.github.io/PythonTipsAndTricks/)\n",
    "\n",
    "A good and practice book about `Pandas` possibilities is:\n",
    "\n",
    "[__Python for Data Analysis__](https://drive.google.com/open?id=0BxoOXsn2EUNIWExXbVc4SDN0YTQ)<br/>\n",
    "Data Wrangling with Pandas, NumPy, and IPython<br/>\n",
    "_By William McKinney_\n",
    "\n",
    "\n",
    "This other is about aplications based on `Pandas`:\n",
    "<div style=\"float: right;\" markdown=\"1\">\n",
    "    <img src=\"https://covers.oreillystatic.com/images/0636920030515/cat.gif\">\n",
    "</div>\n",
    "[Introduction to Machine Learning with Python](https://drive.google.com/open?id=0BxoOXsn2EUNISGhrdEZ3S29fS3M)<br/>\n",
    "A Guide for Data Scientists\n",
    "By Sarah Guido, Andreas Müller\n",
    "\n",
    "`Pandas` can be used in a similar way to `R`, which is based on similar data structures. `Pandas` also can replace the use of graphical interfaces to access spreadsheets like Excel"
   ]
  },
  {
   "cell_type": "markdown",
   "metadata": {},
   "source": [
    "Continue with [Network tutorial](./Network_Tutorial.ipynb)"
   ]
  },
  {
   "cell_type": "code",
   "execution_count": null,
   "metadata": {},
   "outputs": [],
   "source": []
  }
 ],
 "metadata": {
  "kernelspec": {
   "display_name": "Python 3",
   "language": "python",
   "name": "python3"
  },
  "language_info": {
   "codemirror_mode": {
    "name": "ipython",
    "version": 3
   },
   "file_extension": ".py",
   "mimetype": "text/x-python",
   "name": "python",
   "nbconvert_exporter": "python",
   "pygments_lexer": "ipython3",
   "version": "3.4.2"
  },
  "toc": {
   "colors": {
    "hover_highlight": "#DAA520",
    "running_highlight": "#FF0000",
    "selected_highlight": "#FFD700"
   },
   "moveMenuLeft": true,
   "nav_menu": {},
   "navigate_menu": true,
   "number_sections": true,
   "sideBar": true,
   "threshold": 4,
   "toc_cell": false,
   "toc_section_display": "block",
   "toc_window_display": false
  }
 },
 "nbformat": 4,
 "nbformat_minor": 2
}
