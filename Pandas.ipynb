{
 "cells": [
  {
   "cell_type": "markdown",
   "metadata": {},
   "source": [
    "# Pandas"
   ]
  },
  {
   "cell_type": "markdown",
   "metadata": {},
   "source": [
    "An flat _spreadsheet_ can be seen in terms of the types of variables of `Python` just as dictionary of lists, where each column of the spreadsheet is a pair key-list of the dictionary \n",
    "\n",
    "|   |  A   |  B   |\n",
    "|---|:----:|:----:|\n",
    "| 1 | even | odd  |\n",
    "| 2 |   0  | 1    |\n",
    "| 3 |   2  | 3    |\n",
    "| 4 |   4  | 5    |\n",
    "| 5 |   6  | 7    |\n",
    "| 6 |   8  | 9    |"
   ]
  },
  {
   "cell_type": "code",
   "execution_count": 21,
   "metadata": {},
   "outputs": [],
   "source": [
    "numbers={'even': [0,2,4,6,8],   #  First  key-list\n",
    "         'odd' : [1,3,5,7,9] }  #  Second key-list"
   ]
  },
  {
   "cell_type": "markdown",
   "metadata": {},
   "source": [
    "### DataFrame\n",
    "`Pandas` converts this special dictionary of list into a `DataFrame` which is just an spreadsheet at the programming level, and can be managed without a graphical interface."
   ]
  },
  {
   "cell_type": "code",
   "execution_count": 22,
   "metadata": {},
   "outputs": [
    {
     "data": {
      "text/html": [
       "<div>\n",
       "<table border=\"1\" class=\"dataframe\">\n",
       "  <thead>\n",
       "    <tr style=\"text-align: right;\">\n",
       "      <th></th>\n",
       "      <th>even</th>\n",
       "      <th>odd</th>\n",
       "    </tr>\n",
       "  </thead>\n",
       "  <tbody>\n",
       "    <tr>\n",
       "      <th>0</th>\n",
       "      <td>0</td>\n",
       "      <td>1</td>\n",
       "    </tr>\n",
       "    <tr>\n",
       "      <th>1</th>\n",
       "      <td>2</td>\n",
       "      <td>3</td>\n",
       "    </tr>\n",
       "    <tr>\n",
       "      <th>2</th>\n",
       "      <td>4</td>\n",
       "      <td>5</td>\n",
       "    </tr>\n",
       "    <tr>\n",
       "      <th>3</th>\n",
       "      <td>6</td>\n",
       "      <td>7</td>\n",
       "    </tr>\n",
       "    <tr>\n",
       "      <th>4</th>\n",
       "      <td>8</td>\n",
       "      <td>9</td>\n",
       "    </tr>\n",
       "  </tbody>\n",
       "</table>\n",
       "</div>"
      ],
      "text/plain": [
       "   even  odd\n",
       "0     0    1\n",
       "1     2    3\n",
       "2     4    5\n",
       "3     6    7\n",
       "4     8    9"
      ]
     },
     "execution_count": 22,
     "metadata": {},
     "output_type": "execute_result"
    }
   ],
   "source": [
    "import pandas as pd\n",
    "df=pd.DataFrame(numbers)\n",
    "df"
   ]
  },
  {
   "cell_type": "markdown",
   "metadata": {},
   "source": [
    "### Series"
   ]
  },
  {
   "cell_type": "markdown",
   "metadata": {},
   "source": [
    "Each column of the DataFrame is now an augmented dictionary called `Series`, with the indices as the keys of the `Series`"
   ]
  },
  {
   "cell_type": "code",
   "execution_count": 18,
   "metadata": {},
   "outputs": [
    {
     "data": {
      "text/plain": [
       "pandas.core.series.Series"
      ]
     },
     "execution_count": 18,
     "metadata": {},
     "output_type": "execute_result"
    }
   ],
   "source": [
    "type( df['even'] )"
   ]
  },
  {
   "cell_type": "code",
   "execution_count": 20,
   "metadata": {},
   "outputs": [
    {
     "data": {
      "text/plain": [
       "6"
      ]
     },
     "execution_count": 20,
     "metadata": {},
     "output_type": "execute_result"
    }
   ],
   "source": [
    "df.even[3]"
   ]
  },
  {
   "cell_type": "markdown",
   "metadata": {},
   "source": [
    "Note that the key name can be used also as an attribute.\n",
    "\n",
    "> The __power__ of Pandas rely in that their main data structures: `DataFrames` and `Series`, are enriched with many useful methods and attributes.\n",
    "\n",
    "### [Official definition of Pandas](http://pandas.pydata.org/pandas-docs/stable/)\n",
    "\n",
    "> Pandas is a Python package providing __fast__, __flexible__, and __expressive__ _data structures_ designed to make working with “relational” or “labeled” data both easy and intuitive. It aims to be the fundamental high-level building block for doing practical, real world data analysis in Python. Additionally, it _has the broader goal of becoming the most powerful and flexible open source data analysis / manipulation tool_ available in any language. It is already well on its way toward this goal.\n",
    "\n",
    "* \"relational\": the list of data is identified with some unique index (like a `SQL` table)\n",
    "* \"labeled\": the list is identified with a key, like the previous `odd` or `even` keys.\n",
    "\n",
    "\n",
    "\n",
    "### Recommend textbook\n",
    "A good and practice book about `Pandas` possibilities is:\n",
    "\n",
    "[__Python for Data Analysis__](https://drive.google.com/open?id=0BxoOXsn2EUNIWExXbVc4SDN0YTQ)<br/>\n",
    "Data Wrangling with Pandas, NumPy, and IPython<br/>\n",
    "_By William McKinney_"
   ]
  },
  {
   "cell_type": "markdown",
   "metadata": {},
   "source": [
    "## Standard way to load the module"
   ]
  },
  {
   "cell_type": "code",
   "execution_count": 1,
   "metadata": {
    "collapsed": true
   },
   "outputs": [],
   "source": [
    "import pandas as pd"
   ]
  },
  {
   "cell_type": "markdown",
   "metadata": {},
   "source": [
    "## Data structures"
   ]
  },
  {
   "cell_type": "markdown",
   "metadata": {},
   "source": [
    "`Pandas` has two new data structures:\n",
    "* `Series` which are similar to dictionaries\n",
    "* `DataFrame` which are similar to dictionary lists.\n",
    "\n",
    "### DataFrame\n",
    "A row in a two-dimensional `DataFrame` corresponds to `Series` with the same keys of the `DataFrame`, but with single values instead of a list "
   ]
  },
  {
   "cell_type": "code",
   "execution_count": 53,
   "metadata": {},
   "outputs": [
    {
     "data": {
      "text/html": [
       "<div>\n",
       "<table border=\"1\" class=\"dataframe\">\n",
       "  <thead>\n",
       "    <tr style=\"text-align: right;\">\n",
       "      <th></th>\n",
       "      <th>even</th>\n",
       "      <th>odd</th>\n",
       "    </tr>\n",
       "  </thead>\n",
       "  <tbody>\n",
       "    <tr>\n",
       "      <th>0</th>\n",
       "      <td>0</td>\n",
       "      <td>1</td>\n",
       "    </tr>\n",
       "  </tbody>\n",
       "</table>\n",
       "</div>"
      ],
      "text/plain": [
       "   even  odd\n",
       "0     0    1"
      ]
     },
     "execution_count": 53,
     "metadata": {},
     "output_type": "execute_result"
    }
   ],
   "source": [
    "df.loc[[0]]"
   ]
  },
  {
   "cell_type": "code",
   "execution_count": 54,
   "metadata": {},
   "outputs": [
    {
     "data": {
      "text/plain": [
       "array([[0, 1]])"
      ]
     },
     "execution_count": 54,
     "metadata": {},
     "output_type": "execute_result"
    }
   ],
   "source": [
    "df.loc[[0]].values"
   ]
  },
  {
   "cell_type": "code",
   "execution_count": 55,
   "metadata": {},
   "outputs": [
    {
     "name": "stdout",
     "output_type": "stream",
     "text": [
      "the row has\n",
      "                  keys: ['even', 'odd'] and values: [0 1]\n",
      "like the dictionay:\n",
      "                      { 'even' : 0, 'odd' : 1 }\n"
     ]
    }
   ],
   "source": [
    "print( 'the row has' )\n",
    "print( '                  keys: {} and values: {}'.format( list( df.loc[[0]].keys() ),df.loc[[0]].values[0]  ) )\n",
    "print( \"like the dictionay:\" )\n",
    "print( \"                      { 'even' : 0, 'odd' : 1 }\")"
   ]
  },
  {
   "cell_type": "markdown",
   "metadata": {},
   "source": [
    "while the columns are dictionary with the indeces as the keys. \n",
    "\n",
    "An example of a  `DataFrame` is a spreadsheet."
   ]
  },
  {
   "cell_type": "code",
   "execution_count": 56,
   "metadata": {},
   "outputs": [
    {
     "data": {
      "text/html": [
       "<div>\n",
       "<table border=\"1\" class=\"dataframe\">\n",
       "  <thead>\n",
       "    <tr style=\"text-align: right;\">\n",
       "      <th></th>\n",
       "      <th>even</th>\n",
       "    </tr>\n",
       "  </thead>\n",
       "  <tbody>\n",
       "    <tr>\n",
       "      <th>0</th>\n",
       "      <td>0</td>\n",
       "    </tr>\n",
       "    <tr>\n",
       "      <th>1</th>\n",
       "      <td>2</td>\n",
       "    </tr>\n",
       "    <tr>\n",
       "      <th>2</th>\n",
       "      <td>4</td>\n",
       "    </tr>\n",
       "    <tr>\n",
       "      <th>3</th>\n",
       "      <td>6</td>\n",
       "    </tr>\n",
       "    <tr>\n",
       "      <th>4</th>\n",
       "      <td>8</td>\n",
       "    </tr>\n",
       "  </tbody>\n",
       "</table>\n",
       "</div>"
      ],
      "text/plain": [
       "   even\n",
       "0     0\n",
       "1     2\n",
       "2     4\n",
       "3     6\n",
       "4     8"
      ]
     },
     "execution_count": 56,
     "metadata": {},
     "output_type": "execute_result"
    }
   ],
   "source": [
    "df[['even']]"
   ]
  },
  {
   "cell_type": "code",
   "execution_count": 57,
   "metadata": {},
   "outputs": [
    {
     "name": "stdout",
     "output_type": "stream",
     "text": [
      "the column even has\n",
      "                  keys: [0, 1, 2, 3, 4] and values: [0 2 4 6 8]\n",
      "like the dictionay:\n",
      "                      { 0 : 0, 1 : 2, 2 : 4, 3 : 6, 4 : 8 }\n"
     ]
    }
   ],
   "source": [
    "print( 'the column even has' )\n",
    "print( '                  keys: {} and values: {}'.format( list( df.even.keys() ),df.even.values  ) )\n",
    "print( \"like the dictionay:\" )\n",
    "print( \"                      { 0 : 0, 1 : 2, 2 : 4, 3 : 6, 4 : 8 }\")"
   ]
  },
  {
   "cell_type": "markdown",
   "metadata": {},
   "source": [
    "### `Series`"
   ]
  },
  {
   "cell_type": "markdown",
   "metadata": {},
   "source": [
    "A `Pandas` `Series` object can be just initialized from a `Python` dictionary:"
   ]
  },
  {
   "cell_type": "code",
   "execution_count": 34,
   "metadata": {},
   "outputs": [
    {
     "data": {
      "text/plain": [
       "Age                     23\n",
       "Nacionality       Colombia\n",
       "Name           Juan Valdez\n",
       "dtype: object"
      ]
     },
     "execution_count": 34,
     "metadata": {},
     "output_type": "execute_result"
    }
   ],
   "source": [
    "s=pd.Series({'Name':'Juan Valdez','Nacionality':'Colombia','Age':23})\n",
    "s"
   ]
  },
  {
   "cell_type": "markdown",
   "metadata": {},
   "source": [
    "and can be used as such dictionaries"
   ]
  },
  {
   "cell_type": "code",
   "execution_count": 35,
   "metadata": {},
   "outputs": [
    {
     "data": {
      "text/plain": [
       "'Juan Valdez'"
      ]
     },
     "execution_count": 35,
     "metadata": {},
     "output_type": "execute_result"
    }
   ],
   "source": [
    "s['Name']"
   ]
  },
  {
   "cell_type": "markdown",
   "metadata": {},
   "source": [
    "but also as containers of name spaces!"
   ]
  },
  {
   "cell_type": "code",
   "execution_count": 36,
   "metadata": {},
   "outputs": [
    {
     "data": {
      "text/plain": [
       "'Juan Valdez'"
      ]
     },
     "execution_count": 36,
     "metadata": {},
     "output_type": "execute_result"
    }
   ],
   "source": [
    "s.Name"
   ]
  },
  {
   "cell_type": "markdown",
   "metadata": {},
   "source": [
    "## `DataFrame` Initialization"
   ]
  },
  {
   "cell_type": "markdown",
   "metadata": {},
   "source": [
    "### Initization from an existing spreadsheet. \n",
    "This can be locally in your computer o from some downloadable  link"
   ]
  },
  {
   "cell_type": "code",
   "execution_count": 60,
   "metadata": {},
   "outputs": [
    {
     "data": {
      "text/html": [
       "<div>\n",
       "<table border=\"1\" class=\"dataframe\">\n",
       "  <thead>\n",
       "    <tr style=\"text-align: right;\">\n",
       "      <th></th>\n",
       "      <th>Nombre</th>\n",
       "      <th>Edad</th>\n",
       "      <th>Compañia</th>\n",
       "    </tr>\n",
       "  </thead>\n",
       "  <tbody>\n",
       "    <tr>\n",
       "      <th>0</th>\n",
       "      <td>Juan Valdez</td>\n",
       "      <td>23</td>\n",
       "      <td>Café de Colombia</td>\n",
       "    </tr>\n",
       "    <tr>\n",
       "      <th>1</th>\n",
       "      <td>Álvaro Uribe Vélez</td>\n",
       "      <td>65</td>\n",
       "      <td>Senado de la República</td>\n",
       "    </tr>\n",
       "  </tbody>\n",
       "</table>\n",
       "</div>"
      ],
      "text/plain": [
       "               Nombre  Edad                Compañia\n",
       "0         Juan Valdez    23        Café de Colombia\n",
       "1  Álvaro Uribe Vélez    65  Senado de la República"
      ]
     },
     "execution_count": 60,
     "metadata": {},
     "output_type": "execute_result"
    }
   ],
   "source": [
    "df=pd.read_excel('http://bit.ly/spreadsheet_xlsx')\n",
    "df"
   ]
  },
  {
   "cell_type": "markdown",
   "metadata": {},
   "source": [
    "To make a downloadable link for any spread sheet in Google Drive, follow the sequence:\n",
    "```\n",
    "File → Publish to the web...→ Entire Document → Web page → Microsoft excel (xlsx)\n",
    "```\n",
    "as illustrated in the figure:\n",
    "![GS](./img/)"
   ]
  },
  {
   "cell_type": "markdown",
   "metadata": {},
   "source": [
    "### Initialization from sequential rows as  Series\n",
    "We start with an empty `DataFrame`:"
   ]
  },
  {
   "cell_type": "code",
   "execution_count": 37,
   "metadata": {},
   "outputs": [
    {
     "data": {
      "text/html": [
       "<div>\n",
       "<table border=\"1\" class=\"dataframe\">\n",
       "  <thead>\n",
       "    <tr style=\"text-align: right;\">\n",
       "      <th></th>\n",
       "    </tr>\n",
       "  </thead>\n",
       "  <tbody>\n",
       "  </tbody>\n",
       "</table>\n",
       "</div>"
      ],
      "text/plain": [
       "Empty DataFrame\n",
       "Columns: []\n",
       "Index: []"
      ]
     },
     "execution_count": 37,
     "metadata": {},
     "output_type": "execute_result"
    }
   ],
   "source": [
    "df=pd.DataFrame()\n",
    "df"
   ]
  },
  {
   "cell_type": "markdown",
   "metadata": {},
   "source": [
    "We can append a `Series` as a row of the `DataFrame`, provided that we always use the option: `ignore_index=True`"
   ]
  },
  {
   "cell_type": "code",
   "execution_count": 38,
   "metadata": {},
   "outputs": [
    {
     "data": {
      "text/html": [
       "<div>\n",
       "<table border=\"1\" class=\"dataframe\">\n",
       "  <thead>\n",
       "    <tr style=\"text-align: right;\">\n",
       "      <th></th>\n",
       "      <th>Age</th>\n",
       "      <th>Nacionality</th>\n",
       "      <th>Name</th>\n",
       "    </tr>\n",
       "  </thead>\n",
       "  <tbody>\n",
       "    <tr>\n",
       "      <th>0</th>\n",
       "      <td>23.0</td>\n",
       "      <td>Colombia</td>\n",
       "      <td>Juan Valdez</td>\n",
       "    </tr>\n",
       "  </tbody>\n",
       "</table>\n",
       "</div>"
      ],
      "text/plain": [
       "    Age Nacionality         Name\n",
       "0  23.0    Colombia  Juan Valdez"
      ]
     },
     "execution_count": 38,
     "metadata": {},
     "output_type": "execute_result"
    }
   ],
   "source": [
    "df=df.append(s,ignore_index=True)\n",
    "df"
   ]
  },
  {
   "cell_type": "markdown",
   "metadata": {},
   "source": [
    "We can fix the type of data of the `'Age'` column"
   ]
  },
  {
   "cell_type": "code",
   "execution_count": 7,
   "metadata": {},
   "outputs": [
    {
     "data": {
      "text/plain": [
       "pandas.core.series.Series"
      ]
     },
     "execution_count": 7,
     "metadata": {},
     "output_type": "execute_result"
    }
   ],
   "source": [
    "type(df.Age)"
   ]
  },
  {
   "cell_type": "code",
   "execution_count": 8,
   "metadata": {},
   "outputs": [
    {
     "data": {
      "text/html": [
       "<div>\n",
       "<table border=\"1\" class=\"dataframe\">\n",
       "  <thead>\n",
       "    <tr style=\"text-align: right;\">\n",
       "      <th></th>\n",
       "      <th>Age</th>\n",
       "      <th>Nacionality</th>\n",
       "      <th>Name</th>\n",
       "    </tr>\n",
       "  </thead>\n",
       "  <tbody>\n",
       "    <tr>\n",
       "      <th>0</th>\n",
       "      <td>23</td>\n",
       "      <td>Colombia</td>\n",
       "      <td>Juan Valdez</td>\n",
       "    </tr>\n",
       "  </tbody>\n",
       "</table>\n",
       "</div>"
      ],
      "text/plain": [
       "   Age Nacionality         Name\n",
       "0   23    Colombia  Juan Valdez"
      ]
     },
     "execution_count": 8,
     "metadata": {},
     "output_type": "execute_result"
    }
   ],
   "source": [
    "df['Age']=df.Age.astype(int)\n",
    "df"
   ]
  },
  {
   "cell_type": "markdown",
   "metadata": {},
   "source": [
    "To add a second row we can build another `Series`\n",
    "__Activity__: Fill the fields to be generated after the execution of the next cell, and make the __Exercises__"
   ]
  },
  {
   "cell_type": "code",
   "execution_count": null,
   "metadata": {},
   "outputs": [],
   "source": [
    "s=pd.Series()\n",
    "for k in ['Name','Nacionality','Age','Company']:\n",
    "    var=input('{}:\\n'.format(k))\n",
    "    s[k]=var"
   ]
  },
  {
   "cell_type": "markdown",
   "metadata": {},
   "source": [
    "#### Exercises\n",
    "* Display the resulting `Series` in the screen:"
   ]
  },
  {
   "cell_type": "code",
   "execution_count": null,
   "metadata": {
    "collapsed": true
   },
   "outputs": [],
   "source": []
  },
  {
   "cell_type": "markdown",
   "metadata": {},
   "source": [
    "* Append to the previous `DataFrame` y visualizarlo:"
   ]
  },
  {
   "cell_type": "code",
   "execution_count": null,
   "metadata": {
    "collapsed": true
   },
   "outputs": [],
   "source": []
  },
  {
   "cell_type": "markdown",
   "metadata": {},
   "source": [
    "* Fill NaN with empty strings"
   ]
  },
  {
   "cell_type": "code",
   "execution_count": 16,
   "metadata": {
    "collapsed": true
   },
   "outputs": [],
   "source": []
  },
  {
   "cell_type": "markdown",
   "metadata": {},
   "source": [
    "* Save `Pandas` `DataFrame` as an Excel file"
   ]
  },
  {
   "cell_type": "code",
   "execution_count": 21,
   "metadata": {
    "collapsed": true
   },
   "outputs": [],
   "source": []
  },
  {
   "cell_type": "markdown",
   "metadata": {},
   "source": [
    "* Load pandas DataFrame from the saved file in Excel"
   ]
  },
  {
   "cell_type": "code",
   "execution_count": null,
   "metadata": {
    "collapsed": true
   },
   "outputs": [],
   "source": []
  },
  {
   "cell_type": "markdown",
   "metadata": {},
   "source": [
    "### Common operations upon `DataFrames`\n",
    "See https://github.com/restrepo/PythonTipsAndTricks"
   ]
  },
  {
   "cell_type": "markdown",
   "metadata": {},
   "source": [
    "* __To fill a specific cell__"
   ]
  },
  {
   "cell_type": "code",
   "execution_count": 39,
   "metadata": {
    "collapsed": true
   },
   "outputs": [],
   "source": [
    "df.loc[0,'Company']='Federación de Caferos'"
   ]
  },
  {
   "cell_type": "code",
   "execution_count": 40,
   "metadata": {},
   "outputs": [
    {
     "data": {
      "text/html": [
       "<div>\n",
       "<table border=\"1\" class=\"dataframe\">\n",
       "  <thead>\n",
       "    <tr style=\"text-align: right;\">\n",
       "      <th></th>\n",
       "      <th>Age</th>\n",
       "      <th>Nacionality</th>\n",
       "      <th>Name</th>\n",
       "      <th>Company</th>\n",
       "    </tr>\n",
       "  </thead>\n",
       "  <tbody>\n",
       "    <tr>\n",
       "      <th>0</th>\n",
       "      <td>23.0</td>\n",
       "      <td>Colombia</td>\n",
       "      <td>Juan Valdez</td>\n",
       "      <td>Federación de Caferos</td>\n",
       "    </tr>\n",
       "  </tbody>\n",
       "</table>\n",
       "</div>"
      ],
      "text/plain": [
       "    Age Nacionality         Name                Company\n",
       "0  23.0    Colombia  Juan Valdez  Federación de Caferos"
      ]
     },
     "execution_count": 40,
     "metadata": {},
     "output_type": "execute_result"
    }
   ],
   "source": [
    "df"
   ]
  },
  {
   "cell_type": "markdown",
   "metadata": {},
   "source": [
    "## Other formats to saving and read files"
   ]
  },
  {
   "cell_type": "code",
   "execution_count": 24,
   "metadata": {
    "collapsed": true
   },
   "outputs": [],
   "source": [
    "df.to_csv('hoja.csv',index=False)"
   ]
  },
  {
   "cell_type": "markdown",
   "metadata": {},
   "source": [
    "## Loading data from the clouds\n",
    "See: https://github.com/kennethreitz/python-guide"
   ]
  },
  {
   "cell_type": "code",
   "execution_count": 26,
   "metadata": {},
   "outputs": [
    {
     "name": "stdout",
     "output_type": "stream",
     "text": [
      "Writing drive.cfg\n"
     ]
    }
   ],
   "source": [
    "%%writefile drive.cfg\n",
    "[FILES]\n",
    "CIB_Wos.xlsx                                = 0BxoOXsn2EUNIRjJkQ1VEamdJXzA"
   ]
  },
  {
   "cell_type": "markdown",
   "metadata": {},
   "source": [
    "We follow the conventions of https://github.com/kennethreitz/python-guide"
   ]
  },
  {
   "cell_type": "code",
   "execution_count": 28,
   "metadata": {
    "collapsed": true
   },
   "outputs": [],
   "source": [
    "import os\n",
    "import sys\n",
    "sys.path.insert(0, os.path.abspath(os.path.join(os.path.dirname('__file__'), '../input')))\n",
    "from google_drive_tools import *"
   ]
  },
  {
   "cell_type": "code",
   "execution_count": 29,
   "metadata": {
    "collapsed": true
   },
   "outputs": [],
   "source": [
    "df=read_drive_excel('CIB_Wos.xlsx')"
   ]
  },
  {
   "cell_type": "markdown",
   "metadata": {},
   "source": [
    "Vea el tamaño del DataFrame"
   ]
  },
  {
   "cell_type": "code",
   "execution_count": 30,
   "metadata": {},
   "outputs": [
    {
     "data": {
      "text/plain": [
       "(415, 58)"
      ]
     },
     "execution_count": 30,
     "metadata": {},
     "output_type": "execute_result"
    }
   ],
   "source": [
    "df.shape"
   ]
  },
  {
   "cell_type": "code",
   "execution_count": 31,
   "metadata": {},
   "outputs": [
    {
     "data": {
      "text/html": [
       "<div>\n",
       "<table border=\"1\" class=\"dataframe\">\n",
       "  <thead>\n",
       "    <tr style=\"text-align: right;\">\n",
       "      <th></th>\n",
       "      <th>AB</th>\n",
       "      <th>AF</th>\n",
       "      <th>AU</th>\n",
       "      <th>BP</th>\n",
       "      <th>C1</th>\n",
       "      <th>CR</th>\n",
       "      <th>DE</th>\n",
       "      <th>DI</th>\n",
       "      <th>DT</th>\n",
       "      <th>EI</th>\n",
       "      <th>...</th>\n",
       "      <th>SU</th>\n",
       "      <th>CA</th>\n",
       "      <th>MA</th>\n",
       "      <th>PN</th>\n",
       "      <th>BE</th>\n",
       "      <th>BN</th>\n",
       "      <th>D2</th>\n",
       "      <th>SE</th>\n",
       "      <th>SP</th>\n",
       "      <th>HO</th>\n",
       "    </tr>\n",
       "  </thead>\n",
       "  <tbody>\n",
       "    <tr>\n",
       "      <th>171</th>\n",
       "      <td>Background and aim: The involvement of Toll-li...</td>\n",
       "      <td>Castiblanco, John\\nVarela, Diana-Cristina\\nCas...</td>\n",
       "      <td>Castiblanco, J\\nVarela, DC\\nCastano-Rodriguez,...</td>\n",
       "      <td>541\\n</td>\n",
       "      <td>[Castiblanco, John; Varela, Diana-Cristina; Ca...</td>\n",
       "      <td>Anaya JM, 2006, CLIN DEV IMMUNOL, V13, P185, D...</td>\n",
       "      <td>TIRAP; Mal; Tuberculosis; Systemic lupus eryth...</td>\n",
       "      <td>10.1016/j.meegid.2008.03.001\\n</td>\n",
       "      <td>Article\\n</td>\n",
       "      <td>NaN</td>\n",
       "      <td>...</td>\n",
       "      <td>NaN</td>\n",
       "      <td>NaN</td>\n",
       "      <td>NaN</td>\n",
       "      <td>NaN</td>\n",
       "      <td>NaN</td>\n",
       "      <td>NaN</td>\n",
       "      <td>NaN</td>\n",
       "      <td>NaN</td>\n",
       "      <td>NaN</td>\n",
       "      <td>NaN</td>\n",
       "    </tr>\n",
       "  </tbody>\n",
       "</table>\n",
       "<p>1 rows × 58 columns</p>\n",
       "</div>"
      ],
      "text/plain": [
       "                                                    AB  \\\n",
       "171  Background and aim: The involvement of Toll-li...   \n",
       "\n",
       "                                                    AF  \\\n",
       "171  Castiblanco, John\\nVarela, Diana-Cristina\\nCas...   \n",
       "\n",
       "                                                    AU     BP  \\\n",
       "171  Castiblanco, J\\nVarela, DC\\nCastano-Rodriguez,...  541\\n   \n",
       "\n",
       "                                                    C1  \\\n",
       "171  [Castiblanco, John; Varela, Diana-Cristina; Ca...   \n",
       "\n",
       "                                                    CR  \\\n",
       "171  Anaya JM, 2006, CLIN DEV IMMUNOL, V13, P185, D...   \n",
       "\n",
       "                                                    DE  \\\n",
       "171  TIRAP; Mal; Tuberculosis; Systemic lupus eryth...   \n",
       "\n",
       "                                 DI         DT   EI ...    SU   CA   MA   PN  \\\n",
       "171  10.1016/j.meegid.2008.03.001\\n  Article\\n  NaN ...   NaN  NaN  NaN  NaN   \n",
       "\n",
       "      BE   BN   D2   SE   SP   HO  \n",
       "171  NaN  NaN  NaN  NaN  NaN  NaN  \n",
       "\n",
       "[1 rows x 58 columns]"
      ]
     },
     "execution_count": 31,
     "metadata": {},
     "output_type": "execute_result"
    }
   ],
   "source": [
    "df.sample()"
   ]
  },
  {
   "cell_type": "code",
   "execution_count": 32,
   "metadata": {
    "collapsed": true
   },
   "outputs": [],
   "source": [
    "df=df.fillna('')"
   ]
  },
  {
   "cell_type": "code",
   "execution_count": 33,
   "metadata": {},
   "outputs": [
    {
     "data": {
      "text/html": [
       "<div>\n",
       "<table border=\"1\" class=\"dataframe\">\n",
       "  <thead>\n",
       "    <tr style=\"text-align: right;\">\n",
       "      <th></th>\n",
       "      <th>AB</th>\n",
       "      <th>AF</th>\n",
       "      <th>AU</th>\n",
       "      <th>BP</th>\n",
       "      <th>C1</th>\n",
       "      <th>CR</th>\n",
       "      <th>DE</th>\n",
       "      <th>DI</th>\n",
       "      <th>DT</th>\n",
       "      <th>EI</th>\n",
       "      <th>...</th>\n",
       "      <th>SU</th>\n",
       "      <th>CA</th>\n",
       "      <th>MA</th>\n",
       "      <th>PN</th>\n",
       "      <th>BE</th>\n",
       "      <th>BN</th>\n",
       "      <th>D2</th>\n",
       "      <th>SE</th>\n",
       "      <th>SP</th>\n",
       "      <th>HO</th>\n",
       "    </tr>\n",
       "  </thead>\n",
       "  <tbody>\n",
       "    <tr>\n",
       "      <th>178</th>\n",
       "      <td>Background. Invasive fungal diseases are impor...</td>\n",
       "      <td>De Pauw, Ben\\nWalsh, Thomas J.\\nDonnelly, J. P...</td>\n",
       "      <td>De Pauw, B\\nWalsh, TJ\\nDonnelly, JP\\nStevens, ...</td>\n",
       "      <td>1813\\n</td>\n",
       "      <td>[Donnelly, J. Peter] Radboud Univ Nijmegen, Me...</td>\n",
       "      <td>Ascioglu S, 2002, CLIN INFECT DIS, V34, P7, DO...</td>\n",
       "      <td></td>\n",
       "      <td>10.1086/588660\\n</td>\n",
       "      <td>Article\\n</td>\n",
       "      <td></td>\n",
       "      <td>...</td>\n",
       "      <td></td>\n",
       "      <td></td>\n",
       "      <td></td>\n",
       "      <td></td>\n",
       "      <td></td>\n",
       "      <td></td>\n",
       "      <td></td>\n",
       "      <td></td>\n",
       "      <td></td>\n",
       "      <td></td>\n",
       "    </tr>\n",
       "  </tbody>\n",
       "</table>\n",
       "<p>1 rows × 58 columns</p>\n",
       "</div>"
      ],
      "text/plain": [
       "                                                    AB  \\\n",
       "178  Background. Invasive fungal diseases are impor...   \n",
       "\n",
       "                                                    AF  \\\n",
       "178  De Pauw, Ben\\nWalsh, Thomas J.\\nDonnelly, J. P...   \n",
       "\n",
       "                                                    AU      BP  \\\n",
       "178  De Pauw, B\\nWalsh, TJ\\nDonnelly, JP\\nStevens, ...  1813\\n   \n",
       "\n",
       "                                                    C1  \\\n",
       "178  [Donnelly, J. Peter] Radboud Univ Nijmegen, Me...   \n",
       "\n",
       "                                                    CR DE                DI  \\\n",
       "178  Ascioglu S, 2002, CLIN INFECT DIS, V34, P7, DO...     10.1086/588660\\n   \n",
       "\n",
       "            DT EI ... SU CA MA PN BE BN D2 SE SP  HO  \n",
       "178  Article\\n    ...                                 \n",
       "\n",
       "[1 rows x 58 columns]"
      ]
     },
     "execution_count": 33,
     "metadata": {},
     "output_type": "execute_result"
    }
   ],
   "source": [
    "df.sample()"
   ]
  },
  {
   "cell_type": "markdown",
   "metadata": {
    "collapsed": true
   },
   "source": [
    "##  ACTIVITIES\n",
    "See:\n",
    "* https://github.com/ajcr/100-pandas-puzzles\n",
    "* https://github.com/guipsamora/pandas_exercises"
   ]
  },
  {
   "cell_type": "markdown",
   "metadata": {
    "collapsed": true
   },
   "source": [
    "## Additional materials\n",
    "\n",
    "https://github.com/restrepo/PythonTipsAndTricks\n",
    "\n",
    "A good and practice book about `Pandas` possibilities is:\n",
    "\n",
    "[__Python for Data Analysis__](https://drive.google.com/open?id=0BxoOXsn2EUNIWExXbVc4SDN0YTQ)<br/>\n",
    "Data Wrangling with Pandas, NumPy, and IPython<br/>\n",
    "_By William McKinney_\n",
    "\n",
    "\n",
    "This other is about aplications based on `Pandas`:\n",
    "![image.png](https://covers.oreillystatic.com/images/0636920030515/cat.gif) [Introduction to Machine Learning with Python](https://drive.google.com/open?id=0BxoOXsn2EUNISGhrdEZ3S29fS3M)<br/>\n",
    "A Guide for Data Scientists\n",
    "By Sarah Guido, Andreas Müller\n",
    "\n",
    "`Pandas` can be used in a similar way to `R`, which is based on similar data structures. `Pandas` also can replace the use of graphical interfaces to access spreadsheets like Excel"
   ]
  },
  {
   "cell_type": "code",
   "execution_count": null,
   "metadata": {},
   "outputs": [],
   "source": []
  }
 ],
 "metadata": {
  "kernelspec": {
   "display_name": "Python 3",
   "language": "python",
   "name": "python3"
  },
  "language_info": {
   "codemirror_mode": {
    "name": "ipython",
    "version": 3
   },
   "file_extension": ".py",
   "mimetype": "text/x-python",
   "name": "python",
   "nbconvert_exporter": "python",
   "pygments_lexer": "ipython3",
   "version": "3.4.2"
  },
  "toc": {
   "colors": {
    "hover_highlight": "#DAA520",
    "running_highlight": "#FF0000",
    "selected_highlight": "#FFD700"
   },
   "moveMenuLeft": true,
   "nav_menu": {},
   "navigate_menu": true,
   "number_sections": true,
   "sideBar": true,
   "threshold": 4,
   "toc_cell": false,
   "toc_section_display": "block",
   "toc_window_display": false
  }
 },
 "nbformat": 4,
 "nbformat_minor": 2
}
