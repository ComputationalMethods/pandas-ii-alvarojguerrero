{
 "cells": [
  {
   "cell_type": "markdown",
   "metadata": {},
   "source": [
    "<div style=\"float: right;\" markdown=\"1\">\n",
    "    <img src=\"https://www.python.org/static/community_logos/python-logo-master-v3-TM.png\">\n",
    "</div>\n",
    "\n",
    "# PYTHON\n",
    "\n",
    "Python is an interpreted programming language oriented to easy-readable coding.\n",
    "\n",
    "In combination with jupyter notebooks, like this one, and tools like [Pandas](./pandas.ipynb) it can be used as one platform for data-science. \n",
    "\n",
    "Here we describe the general concepts used in the construction of the DataFrame, the main object in [Pandas](./pandas.ipynb). A DataFrame can be seen as the implementation of a spreadsheet at a programable level. \n",
    "\n",
    "## "
   ]
  },
  {
   "cell_type": "markdown",
   "metadata": {},
   "source": []
  }
 ],
 "metadata": {
  "kernelspec": {
   "display_name": "Python 3",
   "language": "python",
   "name": "python3"
  },
  "language_info": {
   "codemirror_mode": {
    "name": "ipython",
    "version": 3
   },
   "file_extension": ".py",
   "mimetype": "text/x-python",
   "name": "python",
   "nbconvert_exporter": "python",
   "pygments_lexer": "ipython3",
   "version": "3.5.3"
  }
 },
 "nbformat": 4,
 "nbformat_minor": 2
}
