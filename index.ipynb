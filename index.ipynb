{
 "cells": [
  {
   "cell_type": "markdown",
   "metadata": {},
   "source": [
    "# Pythoh for Data-Science\n",
    "\n",
    "## Open those notebooks in an executable environment:\n",
    "\n",
    "[![Binder](https://mybinder.org/badge.svg)](https://mybinder.org/v2/gh/restrepo/data-analysis/master)\n",
    "\n",
    "## Contents\n",
    "* [Basic `Python`](./python.ipynb)\n",
    "* [DataFrames in Pandas](./pandas.ipynb)\n",
    "* [Network example](./Network.ipynb)\n",
    "* [Full network example](./inspire.ipynb)\n",
    "\n",
    "## Introduction\n",
    "### Jupyter notebooks\n",
    "\n",
    "__General concept__: The interface that you are using or visualting in this moment is a [jupyter notebook](https://jupyter.org). Installation instructions can be found there. The required extra packages are listed in the [requirements.txt](requirements.txt), and can be installed by using commands like\n",
    "```bash\n",
    "pip install PACKAGE\n",
    "```\n",
    "where PACKAGE is some of the package names listed in [requirements.txt](requirements.txt). THe previos self runnable conatiner already contains all the equired packcages.\n",
    "\n",
    "__Philosohy__: Tis kind insterface is designed to implemen the so called _literal programming_, where the code can be mixed with rich formatted text which can even include mathematical formulas, like $E=\\gamma mc^2$. This kind of mixed text-code documents are heavily used for several purposes like\n",
    "* Reproducible research papers\n",
    "* Self-contained textbooks\n",
    "* Experimtal are to creates full program codes\n",
    "* Share platform for data-analysis\n",
    "* ...\n",
    "\n",
    "__Design__: It consist of executable cells which are basically of two types. Both of them can be executed from the menu or the key combination: `<Shift>+<Enter>`.\n",
    "* Rich text cells like this one which works like a text editor. When executed the display the rich text from the [Markdown sintax](https://guides.github.com/features/mastering-markdown/). Double click this cell to enter to the edit mode, write something (hopefully using $\\rm\\LaTeX$ of the Markdown sintax) and hit `<Shift>+<Enter>`.\n",
    "* Code cell, like the one below, where you can wite code in Python. A new cell with the output is created after the execution. Write some mathematical operation, like `2+2`, in the next cell and hit `<Shift>+<Enter>`."
   ]
  },
  {
   "cell_type": "code",
   "execution_count": null,
   "metadata": {},
   "outputs": [],
   "source": []
  }
 ],
 "metadata": {
  "kernelspec": {
   "display_name": "Python 3",
   "language": "python",
   "name": "python3"
  },
  "language_info": {
   "codemirror_mode": {
    "name": "ipython",
    "version": 3
   },
   "file_extension": ".py",
   "mimetype": "text/x-python",
   "name": "python",
   "nbconvert_exporter": "python",
   "pygments_lexer": "ipython3",
   "version": "3.5.3"
  }
 },
 "nbformat": 4,
 "nbformat_minor": 2
}
