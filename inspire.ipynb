{
 "cells": [
  {
   "cell_type": "markdown",
   "metadata": {
    "slideshow": {
     "slide_type": "slide"
    }
   },
   "source": [
    "# Data-analysis of inspire database\n",
    "[Inspire hep](http://inspirehep.net/) is the information system for research articles in the area of High Energy Physics. As almost all the articles in this area (around a million) are deposited in [arXiv.org](http://arxiv.org), the inspire information system have a wide coverage with full well normalized metadata and author disambiguation. Moreover, the system has implemented a [fully API](http://inspirehep.net/info/hep/api) for autoutomated searching and receive machine readable responses.\n",
    "\n",
    "> A periodically updated snapshot of HEP record metadata in json format is also available at [http://inspirehep.net/hep_records.json.gz](http://inspirehep.net/hep_records.json.gz) (400 MB) with checksum.\n",
    "\n",
    "Also available in [MarXML](http://inspirehep.net/dumps/inspire-dump.html)"
   ]
  },
  {
   "cell_type": "markdown",
   "metadata": {},
   "source": [
    "### Load web version\n",
    "If `DUMP=True` below, it load the very last version (__ <font color=red>WARNING: 1.5GB decompressed</font>,  10 GB of RAM recommended__):"
   ]
  },
  {
   "cell_type": "code",
   "execution_count": 26,
   "metadata": {},
   "outputs": [],
   "source": [
    "DUMP=False\n",
    "if DUMP:\n",
    "    import gzip\n",
    "    import pandas as pd\n",
    "    import requests\n",
    "    url = \"http://inspirehep.net/hep_records.json.gz\"\n",
    "    df_full=pd.read_json(  gzip.decompress( requests.get(url).content  \n",
    "                                      ).decode('utf8'), lines=True)"
   ]
  },
  {
   "cell_type": "markdown",
   "metadata": {
    "slideshow": {
     "slide_type": "fragment"
    }
   },
   "source": [
    "### Load local version\n",
    "* If `FULL=True` below, it load a local version (March 22, 2018) (__ <font color=red>WARNING: 1.5GB decompressed</font>,  10 GB of RAM recommended__)\n",
    "* If `FULL=False` below, it load an small sample with 1000 entries."
   ]
  },
  {
   "cell_type": "code",
   "execution_count": 27,
   "metadata": {},
   "outputs": [],
   "source": [
    "import numpy as np\n",
    "import pandas as pd\n",
    "pd.set_option('display.max_colwidth',200)\n",
    "\n",
    "FULL=False\n",
    "if FULL:\n",
    "    # also at https://drive.google.com/file/d/1NtocdsxbTky5uLmKp3eDoGcQG7qsTEYv/view?usp=sharing\n",
    "    df_all=pd.read_json('hep_records.json',lines=True)\n",
    "else:\n",
    "    url='http://fisica.udea.edu.co/downloads/nodes_small.json'\n",
    "    df_all=pd.read_json(url)\n",
    "    # df_all=pd.read_json( gzip.decompress( requests.get(url+'.gz').content  ) )"
   ]
  },
  {
   "cell_type": "markdown",
   "metadata": {},
   "source": [
    "## Keep only entries with references"
   ]
  },
  {
   "cell_type": "code",
   "execution_count": 30,
   "metadata": {
    "slideshow": {
     "slide_type": "slide"
    }
   },
   "outputs": [],
   "source": [
    "dfr=df_all[df_all.references.map(len)>0].reset_index(drop=True)"
   ]
  },
  {
   "cell_type": "code",
   "execution_count": 31,
   "metadata": {},
   "outputs": [
    {
     "data": {
      "text/html": [
       "<div>\n",
       "<table border=\"1\" class=\"dataframe\">\n",
       "  <thead>\n",
       "    <tr style=\"text-align: right;\">\n",
       "      <th></th>\n",
       "      <th>abstract</th>\n",
       "      <th>authors</th>\n",
       "      <th>citations</th>\n",
       "      <th>co-authors</th>\n",
       "      <th>creation_date</th>\n",
       "      <th>free_keywords</th>\n",
       "      <th>list_rcid</th>\n",
       "      <th>recid</th>\n",
       "      <th>references</th>\n",
       "      <th>standardized_keywords</th>\n",
       "      <th>title</th>\n",
       "    </tr>\n",
       "  </thead>\n",
       "  <tbody>\n",
       "    <tr>\n",
       "      <th>156</th>\n",
       "      <td>This paper is devoted to a study of possible scaling laws, and their logarithmic corrections, occurring in deep inelastic electropion production. Both the exclusive and semiexclusive processes are...</td>\n",
       "      <td>[Calogeracos, A.]</td>\n",
       "      <td>[891896, 675459]</td>\n",
       "      <td>[Dombey, Norman, West, G.B.]</td>\n",
       "      <td>1995</td>\n",
       "      <td>[]</td>\n",
       "      <td>[405851, 405851, 405851, 405851, 405851, 405851, 405851, 405851, 405851, 405851, 405851, 405851, 405851]</td>\n",
       "      <td>405851</td>\n",
       "      <td>[98402, 73764, 52422, 1393354, 69100, 84526, 81012, 458293, 85303, 60858, 325723, 75069, 75194]</td>\n",
       "      <td>[electron p: deep inelastic scattering, deep inelastic scattering: electron p, pi: electroproduction, electroproduction: pi, pi: photoproduction, photoproduction: pi, current algebra, PCAC model, ...</td>\n",
       "      <td>PCAC and the possibility of scaling in electropion production</td>\n",
       "    </tr>\n",
       "    <tr>\n",
       "      <th>324</th>\n",
       "      <td>When Beppo-SAX measured the 0.1--12 keV spectrum of RE J1034+396, observations in the optical, UV and EUV were also taken within a few weeks. This multiwavelength spectrum placed very strong const...</td>\n",
       "      <td>[Puchnarewicz, E.M.]</td>\n",
       "      <td>[615721, 929571]</td>\n",
       "      <td>[Soria, R.]</td>\n",
       "      <td>2002-02</td>\n",
       "      <td>[]</td>\n",
       "      <td>[596210, 596210, 596210]</td>\n",
       "      <td>596210</td>\n",
       "      <td>[576561, 548722, 436660]</td>\n",
       "      <td>[]</td>\n",
       "      <td>Do nls1s and ultrasoft agn have irradiated, warped accretion disks?</td>\n",
       "    </tr>\n",
       "  </tbody>\n",
       "</table>\n",
       "</div>"
      ],
      "text/plain": [
       "                                                                                                                                                                                                    abstract  \\\n",
       "156  This paper is devoted to a study of possible scaling laws, and their logarithmic corrections, occurring in deep inelastic electropion production. Both the exclusive and semiexclusive processes are...   \n",
       "324  When Beppo-SAX measured the 0.1--12 keV spectrum of RE J1034+396, observations in the optical, UV and EUV were also taken within a few weeks. This multiwavelength spectrum placed very strong const...   \n",
       "\n",
       "                  authors         citations                    co-authors  \\\n",
       "156     [Calogeracos, A.]  [891896, 675459]  [Dombey, Norman, West, G.B.]   \n",
       "324  [Puchnarewicz, E.M.]  [615721, 929571]                   [Soria, R.]   \n",
       "\n",
       "    creation_date free_keywords  \\\n",
       "156          1995            []   \n",
       "324       2002-02            []   \n",
       "\n",
       "                                                                                                    list_rcid  \\\n",
       "156  [405851, 405851, 405851, 405851, 405851, 405851, 405851, 405851, 405851, 405851, 405851, 405851, 405851]   \n",
       "324                                                                                  [596210, 596210, 596210]   \n",
       "\n",
       "      recid  \\\n",
       "156  405851   \n",
       "324  596210   \n",
       "\n",
       "                                                                                          references  \\\n",
       "156  [98402, 73764, 52422, 1393354, 69100, 84526, 81012, 458293, 85303, 60858, 325723, 75069, 75194]   \n",
       "324                                                                         [576561, 548722, 436660]   \n",
       "\n",
       "                                                                                                                                                                                       standardized_keywords  \\\n",
       "156  [electron p: deep inelastic scattering, deep inelastic scattering: electron p, pi: electroproduction, electroproduction: pi, pi: photoproduction, photoproduction: pi, current algebra, PCAC model, ...   \n",
       "324                                                                                                                                                                                                       []   \n",
       "\n",
       "                                                                   title  \n",
       "156        PCAC and the possibility of scaling in electropion production  \n",
       "324  Do nls1s and ultrasoft agn have irradiated, warped accretion disks?  "
      ]
     },
     "execution_count": 31,
     "metadata": {},
     "output_type": "execute_result"
    }
   ],
   "source": [
    "dfr.sample(2)"
   ]
  },
  {
   "cell_type": "code",
   "execution_count": 32,
   "metadata": {},
   "outputs": [],
   "source": [
    "dfr=dfr.reset_index(drop=True)"
   ]
  },
  {
   "cell_type": "code",
   "execution_count": 33,
   "metadata": {},
   "outputs": [
    {
     "data": {
      "text/plain": [
       "(1000, 11)"
      ]
     },
     "execution_count": 33,
     "metadata": {},
     "output_type": "execute_result"
    }
   ],
   "source": [
    "dfr.shape"
   ]
  },
  {
   "cell_type": "markdown",
   "metadata": {},
   "source": [
    "### make a query"
   ]
  },
  {
   "cell_type": "code",
   "execution_count": 34,
   "metadata": {},
   "outputs": [
    {
     "name": "stdout",
     "output_type": "stream",
     "text": [
      "Search for author, e.g: restrepo, d:  f\n"
     ]
    },
    {
     "ename": "AttributeError",
     "evalue": "'DataFrame' object has no attribute 'full_authors'",
     "output_type": "error",
     "traceback": [
      "\u001b[0;31m---------------------------------------------------------------------------\u001b[0m",
      "\u001b[0;31mAttributeError\u001b[0m                            Traceback (most recent call last)",
      "\u001b[0;32m<ipython-input-34-c340e9484bc1>\u001b[0m in \u001b[0;36m<module>\u001b[0;34m()\u001b[0m\n\u001b[1;32m      1\u001b[0m \u001b[0mq\u001b[0m\u001b[0;34m=\u001b[0m\u001b[0minput\u001b[0m\u001b[0;34m(\u001b[0m\u001b[0;34m'Search for author, e.g: restrepo, d:  '\u001b[0m\u001b[0;34m)\u001b[0m\u001b[0;34m\u001b[0m\u001b[0m\n\u001b[1;32m      2\u001b[0m \u001b[0;34m\u001b[0m\u001b[0m\n\u001b[0;32m----> 3\u001b[0;31m \u001b[0mrq\u001b[0m\u001b[0;34m=\u001b[0m\u001b[0mdfr\u001b[0m\u001b[0;34m[\u001b[0m\u001b[0mdfr\u001b[0m\u001b[0;34m.\u001b[0m\u001b[0mfull_authors\u001b[0m\u001b[0;34m.\u001b[0m\u001b[0mstr\u001b[0m\u001b[0;34m.\u001b[0m\u001b[0mlower\u001b[0m\u001b[0;34m(\u001b[0m\u001b[0;34m)\u001b[0m\u001b[0;34m.\u001b[0m\u001b[0mstr\u001b[0m\u001b[0;34m.\u001b[0m\u001b[0mcontains\u001b[0m\u001b[0;34m(\u001b[0m\u001b[0;34m'restrepo, d'\u001b[0m\u001b[0;34m)\u001b[0m\u001b[0;34m]\u001b[0m\u001b[0;34m.\u001b[0m\u001b[0mreset_index\u001b[0m\u001b[0;34m(\u001b[0m\u001b[0mdrop\u001b[0m\u001b[0;34m=\u001b[0m\u001b[0;32mTrue\u001b[0m\u001b[0;34m)\u001b[0m\u001b[0;34m\u001b[0m\u001b[0m\n\u001b[0m\u001b[1;32m      4\u001b[0m \u001b[0mprint\u001b[0m\u001b[0;34m(\u001b[0m\u001b[0;34m'{} records found'\u001b[0m\u001b[0;34m.\u001b[0m\u001b[0mformat\u001b[0m\u001b[0;34m(\u001b[0m\u001b[0mrq\u001b[0m\u001b[0;34m.\u001b[0m\u001b[0mshape\u001b[0m\u001b[0;34m[\u001b[0m\u001b[0;36m0\u001b[0m\u001b[0;34m]\u001b[0m\u001b[0;34m)\u001b[0m  \u001b[0;34m)\u001b[0m\u001b[0;34m\u001b[0m\u001b[0m\n\u001b[1;32m      5\u001b[0m \u001b[0mrq\u001b[0m\u001b[0;34m\u001b[0m\u001b[0m\n",
      "\u001b[0;32m/usr/local/lib/python3.4/dist-packages/pandas/core/generic.py\u001b[0m in \u001b[0;36m__getattr__\u001b[0;34m(self, name)\u001b[0m\n\u001b[1;32m   2742\u001b[0m             \u001b[0;32mif\u001b[0m \u001b[0mname\u001b[0m \u001b[0;32min\u001b[0m \u001b[0mself\u001b[0m\u001b[0;34m.\u001b[0m\u001b[0m_info_axis\u001b[0m\u001b[0;34m:\u001b[0m\u001b[0;34m\u001b[0m\u001b[0m\n\u001b[1;32m   2743\u001b[0m                 \u001b[0;32mreturn\u001b[0m \u001b[0mself\u001b[0m\u001b[0;34m[\u001b[0m\u001b[0mname\u001b[0m\u001b[0;34m]\u001b[0m\u001b[0;34m\u001b[0m\u001b[0m\n\u001b[0;32m-> 2744\u001b[0;31m             \u001b[0;32mreturn\u001b[0m \u001b[0mobject\u001b[0m\u001b[0;34m.\u001b[0m\u001b[0m__getattribute__\u001b[0m\u001b[0;34m(\u001b[0m\u001b[0mself\u001b[0m\u001b[0;34m,\u001b[0m \u001b[0mname\u001b[0m\u001b[0;34m)\u001b[0m\u001b[0;34m\u001b[0m\u001b[0m\n\u001b[0m\u001b[1;32m   2745\u001b[0m \u001b[0;34m\u001b[0m\u001b[0m\n\u001b[1;32m   2746\u001b[0m     \u001b[0;32mdef\u001b[0m \u001b[0m__setattr__\u001b[0m\u001b[0;34m(\u001b[0m\u001b[0mself\u001b[0m\u001b[0;34m,\u001b[0m \u001b[0mname\u001b[0m\u001b[0;34m,\u001b[0m \u001b[0mvalue\u001b[0m\u001b[0;34m)\u001b[0m\u001b[0;34m:\u001b[0m\u001b[0;34m\u001b[0m\u001b[0m\n",
      "\u001b[0;31mAttributeError\u001b[0m: 'DataFrame' object has no attribute 'full_authors'"
     ]
    }
   ],
   "source": [
    "q=input('Search for author, e.g: restrepo, d:  ')\n",
    "\n",
    "rq=dfr[dfr.full_authors.str.lower().str.contains('restrepo, d')].reset_index(drop=True)\n",
    "print('{} records found'.format(rq.shape[0])  )\n",
    "rq"
   ]
  },
  {
   "cell_type": "markdown",
   "metadata": {},
   "source": [
    "###  Convert to WOS-like format"
   ]
  },
  {
   "cell_type": "code",
   "execution_count": 35,
   "metadata": {},
   "outputs": [],
   "source": [
    "dfr['full_authors']=dfr['authors']+dfr['co-authors']"
   ]
  },
  {
   "cell_type": "code",
   "execution_count": 36,
   "metadata": {},
   "outputs": [],
   "source": [
    "dfrw=dfr.copy()\n",
    "dfrw.full_authors=dfrw.full_authors.str.join('\\n').str.replace('.$','\\n')\n",
    "#convert integer list to string list: https://stackoverflow.com/a/3590175/2268280\n",
    "dfrw['refs']=dfrw.references.map(lambda x: '\\n'.join( map( str,x )   )).str.replace('.$','\\n')"
   ]
  },
  {
   "cell_type": "code",
   "execution_count": 37,
   "metadata": {
    "scrolled": true
   },
   "outputs": [
    {
     "data": {
      "text/html": [
       "<div>\n",
       "<table border=\"1\" class=\"dataframe\">\n",
       "  <thead>\n",
       "    <tr style=\"text-align: right;\">\n",
       "      <th></th>\n",
       "      <th>title</th>\n",
       "      <th>full_authors</th>\n",
       "      <th>refs</th>\n",
       "    </tr>\n",
       "  </thead>\n",
       "  <tbody>\n",
       "    <tr>\n",
       "      <th>0</th>\n",
       "      <td>Canonical Methods in Nonabelian Gauge Theories</td>\n",
       "      <td>Brandt, Richard A.\\nNg, Wing-Chiu\\nYoung, Kennet\\n</td>\n",
       "      <td>87072\\n1283\\n86276\\n1577\\n95084\\n54444\\n99663\\n58673\\n67637\\n93143\\n7922\\n</td>\n",
       "    </tr>\n",
       "    <tr>\n",
       "      <th>1</th>\n",
       "      <td>Scale Breaking and Anomalies in Deep Inelastic Lepton Scattering</td>\n",
       "      <td>Shaw, Gordon L.\\nFaroughy, Dara\\nThomas, Pau\\n</td>\n",
       "      <td>1953\\n3746\\n2179\\n3393\\n3304\\n113705\\n60999\\n108589\\n60846\\n2255\\n108040\\n99698\\n85251\\n108861\\n108241\\n3067\\n109116\\n2717\\n10044\\n</td>\n",
       "    </tr>\n",
       "    <tr>\n",
       "      <th>2</th>\n",
       "      <td>EFFECTIVE QCD LAGRANGIAN AT FINITE TEMPERATURE</td>\n",
       "      <td>Dittrich, Walter\\nSchanbacher, Volke\\n</td>\n",
       "      <td>112293\\n119942\\n145900\\n130542\\n7860\\n6862\\n140214\\n11196\\n</td>\n",
       "    </tr>\n",
       "  </tbody>\n",
       "</table>\n",
       "</div>"
      ],
      "text/plain": [
       "                                                              title  \\\n",
       "0                    Canonical Methods in Nonabelian Gauge Theories   \n",
       "1  Scale Breaking and Anomalies in Deep Inelastic Lepton Scattering   \n",
       "2                    EFFECTIVE QCD LAGRANGIAN AT FINITE TEMPERATURE   \n",
       "\n",
       "                                         full_authors  \\\n",
       "0  Brandt, Richard A.\\nNg, Wing-Chiu\\nYoung, Kennet\\n   \n",
       "1      Shaw, Gordon L.\\nFaroughy, Dara\\nThomas, Pau\\n   \n",
       "2              Dittrich, Walter\\nSchanbacher, Volke\\n   \n",
       "\n",
       "                                                                                                                                  refs  \n",
       "0                                                           87072\\n1283\\n86276\\n1577\\n95084\\n54444\\n99663\\n58673\\n67637\\n93143\\n7922\\n  \n",
       "1  1953\\n3746\\n2179\\n3393\\n3304\\n113705\\n60999\\n108589\\n60846\\n2255\\n108040\\n99698\\n85251\\n108861\\n108241\\n3067\\n109116\\n2717\\n10044\\n  \n",
       "2                                                                          112293\\n119942\\n145900\\n130542\\n7860\\n6862\\n140214\\n11196\\n  "
      ]
     },
     "execution_count": 37,
     "metadata": {},
     "output_type": "execute_result"
    }
   ],
   "source": [
    "dfrw[['title','full_authors','refs']][:3]#.to_excel('inspire.xlsx',index=False)"
   ]
  },
  {
   "cell_type": "markdown",
   "metadata": {},
   "source": [
    "## Build the network of references"
   ]
  },
  {
   "cell_type": "code",
   "execution_count": 38,
   "metadata": {},
   "outputs": [
    {
     "ename": "NameError",
     "evalue": "name 'df' is not defined",
     "output_type": "error",
     "traceback": [
      "\u001b[0;31m---------------------------------------------------------------------------\u001b[0m",
      "\u001b[0;31mNameError\u001b[0m                                 Traceback (most recent call last)",
      "\u001b[0;32m<ipython-input-38-633337079cd0>\u001b[0m in \u001b[0;36m<module>\u001b[0;34m()\u001b[0m\n\u001b[0;32m----> 1\u001b[0;31m \u001b[0mdf\u001b[0m\u001b[0;34m.\u001b[0m\u001b[0mshape\u001b[0m\u001b[0;34m\u001b[0m\u001b[0m\n\u001b[0m",
      "\u001b[0;31mNameError\u001b[0m: name 'df' is not defined"
     ]
    }
   ],
   "source": [
    "df.shape"
   ]
  },
  {
   "cell_type": "code",
   "execution_count": 39,
   "metadata": {},
   "outputs": [],
   "source": [
    "#df.to_json('full_ralations.json')"
   ]
  },
  {
   "cell_type": "code",
   "execution_count": 41,
   "metadata": {},
   "outputs": [
    {
     "ename": "NameError",
     "evalue": "name 'df' is not defined",
     "output_type": "error",
     "traceback": [
      "\u001b[0;31m---------------------------------------------------------------------------\u001b[0m",
      "\u001b[0;31mNameError\u001b[0m                                 Traceback (most recent call last)",
      "\u001b[0;32m<ipython-input-41-070f45b84521>\u001b[0m in \u001b[0;36m<module>\u001b[0;34m()\u001b[0m\n\u001b[0;32m----> 1\u001b[0;31m \u001b[0mdf\u001b[0m\u001b[0;34m[\u001b[0m\u001b[0;34m:\u001b[0m\u001b[0;36m1\u001b[0m\u001b[0;34m]\u001b[0m\u001b[0;34m\u001b[0m\u001b[0m\n\u001b[0m",
      "\u001b[0;31mNameError\u001b[0m: name 'df' is not defined"
     ]
    }
   ],
   "source": [
    "df[:1]"
   ]
  },
  {
   "cell_type": "code",
   "execution_count": 42,
   "metadata": {},
   "outputs": [],
   "source": [
    "def check_intersect1d(x,y):\n",
    "    return np.intersect1d(x,y)\n",
    "\n",
    "def check_not_ref(x,ref):\n",
    "    return x not in ref\n",
    "\n",
    "\n",
    "\n",
    "#DEBUG: ====\n",
    "#Nmin=1;DEBUG=False\n",
    "def check_connections( dfi,Nmin=5,DEBUG=False,external_ed=pd.DataFrame() ):\n",
    "#if True:    \n",
    "    ed=pd.DataFrame()\n",
    "\n",
    "\n",
    "    if DEBUG: \n",
    "        #===log===\n",
    "        f=open('kk.log','w')\n",
    "        f.write('')\n",
    "        f.close()\n",
    "        #=======\n",
    "    #DEBUG===========\n",
    "    #i=5000\n",
    "    #if True:\n",
    "    for i in dfi.index:\n",
    "        #check if edge already extits in some external ed DataFrame===\n",
    "        #edge=dfi.loc[i,'recid']\n",
    "        #if not edges_already_exists(edge,external_ed):\n",
    "        \n",
    "        #================    \n",
    "        if DEBUG:\n",
    "            #===log===\n",
    "            f=open('kk.log','a')\n",
    "            f.write('{}\\n'.format(i))\n",
    "            f.close()\n",
    "            #=======\n",
    "        print(i,end='\\r')\n",
    "        # Drop already analysed files\n",
    "        df_not_i=dfi.drop( dfi.index[ range(0,i+1)  ] ) \n",
    "        # prepare edges DataFrame\n",
    "        df_not_i=df_not_i.rename_axis({'recid':'target'}, axis = 'columns')\n",
    "        #WARNING: limit the number of columns to free memory\n",
    "        df_not_i=df_not_i[['target','references']]\n",
    "        # Make the intersection of dfi.loc[i,'references'] with all the others one (see previous restricion)\n",
    "        df_not_i['intersect']=df_not_i['references'].map(lambda x: check_intersect1d(x,dfi.loc[i,'references']))\n",
    "        # INPORTANT PART Restrict the number of edges ============\n",
    "        df_not_i=df_not_i[df_not_i['intersect'].map(len)>=Nmin]\n",
    "        #==========================================================\n",
    "        # Add source column. \n",
    "        df_not_i['source']=dfi.loc[i,'recid']\n",
    "        # drop references columns\n",
    "        ed=ed.append( df_not_i[['source','target','intersect']] ).reset_index(drop=True) \n",
    "\n",
    "    return ed"
   ]
  },
  {
   "cell_type": "code",
   "execution_count": null,
   "metadata": {},
   "outputs": [],
   "source": [
    "import time\n",
    "s=time.time()\n",
    "\n",
    "dfi=dfr.sample(1000).sort_values('recid').reset_index(drop=True)\n",
    "\n",
    "ed=check_connections(dfi,Nmin=5,DEBUG=True)\n",
    "\n",
    "print(time.time()-s)"
   ]
  },
  {
   "cell_type": "code",
   "execution_count": 527,
   "metadata": {},
   "outputs": [],
   "source": [
    "edf=ed.copy()"
   ]
  },
  {
   "cell_type": "code",
   "execution_count": 528,
   "metadata": {},
   "outputs": [
    {
     "data": {
      "text/plain": [
       "(3271, 3)"
      ]
     },
     "execution_count": 528,
     "metadata": {},
     "output_type": "execute_result"
    }
   ],
   "source": [
    "edf.shape"
   ]
  },
  {
   "cell_type": "code",
   "execution_count": 536,
   "metadata": {},
   "outputs": [
    {
     "data": {
      "text/plain": [
       "(124, 3)"
      ]
     },
     "execution_count": 536,
     "metadata": {},
     "output_type": "execute_result"
    }
   ],
   "source": [
    "edf=edf[edf.intersect.map(len)>=5]\n",
    "edf.shape"
   ]
  },
  {
   "cell_type": "markdown",
   "metadata": {},
   "source": [
    "## Find the colegios"
   ]
  },
  {
   "cell_type": "code",
   "execution_count": 537,
   "metadata": {},
   "outputs": [],
   "source": [
    "colegios=pd.DataFrame()\n",
    "j=0\n",
    "col={}\n",
    "col[j]=[]"
   ]
  },
  {
   "cell_type": "code",
   "execution_count": 538,
   "metadata": {},
   "outputs": [],
   "source": [
    "#i=3\n",
    "#if True:\n",
    "for i in edf.source.unique():\n",
    "    #print(i)\n",
    "    if True:\n",
    "        if not i in col[j]: # new colegio!\n",
    "            cl=edf[edf.source==i]\n",
    "            # TODO loop in target\n",
    "            if cl.target.values[0] not in col[j]: # neither source not target in old colegio:\n",
    "                j=i\n",
    "                col[j] =list( np.unique( np.concatenate ( ( cl.source.values,cl.target.values )  ) )  )\n",
    "            else:\n",
    "                col[j].append(i)"
   ]
  },
  {
   "cell_type": "code",
   "execution_count": 539,
   "metadata": {},
   "outputs": [],
   "source": [
    "cdf=pd.DataFrame( { 'source': list( col.keys()),'colegios':  list( col.values() )  } )"
   ]
  },
  {
   "cell_type": "code",
   "execution_count": 540,
   "metadata": {},
   "outputs": [],
   "source": [
    "cdf=cdf[cdf.source>0].reset_index(drop=True)"
   ]
  },
  {
   "cell_type": "code",
   "execution_count": 541,
   "metadata": {},
   "outputs": [],
   "source": [
    "cdff=cdf.merge(edf,on='source',how='left').fillna('')"
   ]
  },
  {
   "cell_type": "code",
   "execution_count": 545,
   "metadata": {},
   "outputs": [
    {
     "data": {
      "text/html": [
       "<div>\n",
       "<style>\n",
       "    .dataframe thead tr:only-child th {\n",
       "        text-align: right;\n",
       "    }\n",
       "\n",
       "    .dataframe thead th {\n",
       "        text-align: left;\n",
       "    }\n",
       "\n",
       "    .dataframe tbody tr th {\n",
       "        vertical-align: top;\n",
       "    }\n",
       "</style>\n",
       "<table border=\"1\" class=\"dataframe\">\n",
       "  <thead>\n",
       "    <tr style=\"text-align: right;\">\n",
       "      <th></th>\n",
       "      <th>source</th>\n",
       "      <th>target</th>\n",
       "      <th>colegios</th>\n",
       "      <th>intersect</th>\n",
       "    </tr>\n",
       "  </thead>\n",
       "  <tbody>\n",
       "    <tr>\n",
       "      <th>0</th>\n",
       "      <td>1644265</td>\n",
       "      <td>1662910</td>\n",
       "      <td>[1644265, 1653123, 1662910]</td>\n",
       "      <td>[593382, 659055, 760769, 779080, 796887, 919443, 1124337, 1124338, 1203133, 1293923, 1321709, 1468068, 1605397]</td>\n",
       "    </tr>\n",
       "  </tbody>\n",
       "</table>\n",
       "</div>"
      ],
      "text/plain": [
       "    source   target                     colegios  \\\n",
       "0  1644265  1662910  [1644265, 1653123, 1662910]   \n",
       "\n",
       "                                                                                                         intersect  \n",
       "0  [593382, 659055, 760769, 779080, 796887, 919443, 1124337, 1124338, 1203133, 1293923, 1321709, 1468068, 1605397]  "
      ]
     },
     "execution_count": 545,
     "metadata": {},
     "output_type": "execute_result"
    }
   ],
   "source": [
    "colg=cdff[['source','target','colegios','intersect']].sort_values(\n",
    "     ['source','target'],ascending=False).reset_index(drop=True)\n",
    "colg[:1]"
   ]
  },
  {
   "cell_type": "code",
   "execution_count": 555,
   "metadata": {},
   "outputs": [
    {
     "data": {
      "text/plain": [
       "12"
      ]
     },
     "execution_count": 555,
     "metadata": {},
     "output_type": "execute_result"
    }
   ],
   "source": [
    "colg['len_col']=colg.colegios.map(len)\n",
    "colg.len_col.max()"
   ]
  },
  {
   "cell_type": "code",
   "execution_count": 561,
   "metadata": {},
   "outputs": [
    {
     "data": {
      "text/html": [
       "<div>\n",
       "<style>\n",
       "    .dataframe thead tr:only-child th {\n",
       "        text-align: right;\n",
       "    }\n",
       "\n",
       "    .dataframe thead th {\n",
       "        text-align: left;\n",
       "    }\n",
       "\n",
       "    .dataframe tbody tr th {\n",
       "        vertical-align: top;\n",
       "    }\n",
       "</style>\n",
       "<table border=\"1\" class=\"dataframe\">\n",
       "  <thead>\n",
       "    <tr style=\"text-align: right;\">\n",
       "      <th></th>\n",
       "      <th>source</th>\n",
       "      <th>target</th>\n",
       "      <th>colegios</th>\n",
       "      <th>intersect</th>\n",
       "      <th>len_col</th>\n",
       "    </tr>\n",
       "  </thead>\n",
       "  <tbody>\n",
       "    <tr>\n",
       "      <th>18</th>\n",
       "      <td>1260794</td>\n",
       "      <td>1662910</td>\n",
       "      <td>[1260794, 1260873, 1296453, 1644265, 1653123, 1662910]</td>\n",
       "      <td>[494953, 593382, 599622, 659055, 760769, 779080, 796887, 919443]</td>\n",
       "      <td>6</td>\n",
       "    </tr>\n",
       "    <tr>\n",
       "      <th>26</th>\n",
       "      <td>1230004</td>\n",
       "      <td>1596723</td>\n",
       "      <td>[1230004, 1260794, 1260873, 1296453, 1596723, 1235726]</td>\n",
       "      <td>[581996, 589478, 712925, 877524, 912611]</td>\n",
       "      <td>6</td>\n",
       "    </tr>\n",
       "    <tr>\n",
       "      <th>48</th>\n",
       "      <td>823215</td>\n",
       "      <td>1662910</td>\n",
       "      <td>[823215, 871874, 883930, 1230004, 1260873, 1296453, 1296927, 1434935, 1631169, 1644265, 1653123, 1662910]</td>\n",
       "      <td>[12291, 12292, 40440, 50073, 593382, 700668, 796887]</td>\n",
       "      <td>12</td>\n",
       "    </tr>\n",
       "  </tbody>\n",
       "</table>\n",
       "</div>"
      ],
      "text/plain": [
       "     source   target  \\\n",
       "18  1260794  1662910   \n",
       "26  1230004  1596723   \n",
       "48   823215  1662910   \n",
       "\n",
       "                                                                                                     colegios  \\\n",
       "18                                                     [1260794, 1260873, 1296453, 1644265, 1653123, 1662910]   \n",
       "26                                                     [1230004, 1260794, 1260873, 1296453, 1596723, 1235726]   \n",
       "48  [823215, 871874, 883930, 1230004, 1260873, 1296453, 1296927, 1434935, 1631169, 1644265, 1653123, 1662910]   \n",
       "\n",
       "                                                           intersect  len_col  \n",
       "18  [494953, 593382, 599622, 659055, 760769, 779080, 796887, 919443]        6  \n",
       "26                          [581996, 589478, 712925, 877524, 912611]        6  \n",
       "48              [12291, 12292, 40440, 50073, 593382, 700668, 796887]       12  "
      ]
     },
     "execution_count": 561,
     "metadata": {},
     "output_type": "execute_result"
    }
   ],
   "source": [
    "colg[colg.len_col>5].drop_duplicates('source')#.shape"
   ]
  },
  {
   "cell_type": "markdown",
   "metadata": {
    "heading_collapsed": true
   },
   "source": [
    "## Better efficiency\n",
    "The current approach does not scale well\n",
    "\n",
    "We follow here the usual approach to have a node file and build up an edges file.\n",
    "The egdes file will be build in [pajek.ipynb](./pajek.ipynb)"
   ]
  },
  {
   "cell_type": "code",
   "execution_count": 562,
   "metadata": {
    "hidden": true
   },
   "outputs": [],
   "source": [
    "def ones(x,y):\n",
    "    return np.ones(len(x)).astype(int)*y"
   ]
  },
  {
   "cell_type": "markdown",
   "metadata": {
    "heading_collapsed": true
   },
   "source": [
    "##  Pajek like Dataframe"
   ]
  },
  {
   "cell_type": "markdown",
   "metadata": {
    "heading_collapsed": true,
    "hidden": true
   },
   "source": [
    "### Save node file\n",
    "JSON format keeps the python object structure"
   ]
  },
  {
   "cell_type": "code",
   "execution_count": 563,
   "metadata": {
    "hidden": true
   },
   "outputs": [],
   "source": [
    "SAVE=False\n",
    "if SAVE:\n",
    "    df.to_json('nodes_small.json')"
   ]
  },
  {
   "cell_type": "code",
   "execution_count": 564,
   "metadata": {
    "hidden": true
   },
   "outputs": [],
   "source": [
    "df['list_rcid']=df.references.combine( df.recid, func=ones)"
   ]
  },
  {
   "cell_type": "code",
   "execution_count": 565,
   "metadata": {
    "hidden": true
   },
   "outputs": [],
   "source": [
    "pj=pd.DataFrame( { 'recid': np.concatenate (  tuple( df.list_rcid.values ) ),\n",
    "                   'references': np.concatenate (  tuple( df.references.values ) )} )"
   ]
  },
  {
   "cell_type": "code",
   "execution_count": 566,
   "metadata": {
    "hidden": true
   },
   "outputs": [],
   "source": [
    "pj=pj.sort_values(['references','recid'])"
   ]
  },
  {
   "cell_type": "code",
   "execution_count": 567,
   "metadata": {
    "hidden": true
   },
   "outputs": [
    {
     "data": {
      "text/plain": [
       "(23960, 2)"
      ]
     },
     "execution_count": 567,
     "metadata": {},
     "output_type": "execute_result"
    }
   ],
   "source": [
    "pj.shape"
   ]
  },
  {
   "cell_type": "markdown",
   "metadata": {
    "hidden": true
   },
   "source": [
    "Remove entries with a single citation"
   ]
  },
  {
   "cell_type": "code",
   "execution_count": 568,
   "metadata": {
    "hidden": true
   },
   "outputs": [],
   "source": [
    "pj['diff_refs_1']=np.concatenate (  (  pj.references.values[1:]-pj.references.values[:-1],\n",
    "                            [   pj.references.values[-1]-pj.references.values[-2]   ] ) )\n",
    "pj['diff_refs_2']=np.concatenate (  (  [   pj.references.values[-1]-pj.references.values[-2]   ],\n",
    "                                         (pj.references.values[:-1]-pj.references.values[1:])\n",
    "                                   ) )\n",
    "pj['diff_refs']=pj.diff_refs_1*pj.diff_refs_2"
   ]
  },
  {
   "cell_type": "code",
   "execution_count": 569,
   "metadata": {
    "hidden": true
   },
   "outputs": [],
   "source": [
    "pj=pj[pj.diff_refs==0].drop(['diff_refs_1','diff_refs_2','diff_refs'],axis='columns').reset_index(drop=True)"
   ]
  },
  {
   "cell_type": "code",
   "execution_count": 570,
   "metadata": {
    "hidden": true
   },
   "outputs": [
    {
     "data": {
      "text/plain": [
       "(4915, 2)"
      ]
     },
     "execution_count": 570,
     "metadata": {},
     "output_type": "execute_result"
    }
   ],
   "source": [
    "pj.shape"
   ]
  },
  {
   "cell_type": "code",
   "execution_count": 572,
   "metadata": {
    "hidden": true
   },
   "outputs": [
    {
     "data": {
      "text/html": [
       "<div>\n",
       "<style>\n",
       "    .dataframe thead tr:only-child th {\n",
       "        text-align: right;\n",
       "    }\n",
       "\n",
       "    .dataframe thead th {\n",
       "        text-align: left;\n",
       "    }\n",
       "\n",
       "    .dataframe tbody tr th {\n",
       "        vertical-align: top;\n",
       "    }\n",
       "</style>\n",
       "<table border=\"1\" class=\"dataframe\">\n",
       "  <thead>\n",
       "    <tr style=\"text-align: right;\">\n",
       "      <th></th>\n",
       "      <th>recid</th>\n",
       "      <th>references</th>\n",
       "    </tr>\n",
       "  </thead>\n",
       "  <tbody>\n",
       "    <tr>\n",
       "      <th>0</th>\n",
       "      <td>15541</td>\n",
       "      <td>113</td>\n",
       "    </tr>\n",
       "    <tr>\n",
       "      <th>1</th>\n",
       "      <td>143630</td>\n",
       "      <td>113</td>\n",
       "    </tr>\n",
       "    <tr>\n",
       "      <th>2</th>\n",
       "      <td>385487</td>\n",
       "      <td>113</td>\n",
       "    </tr>\n",
       "    <tr>\n",
       "      <th>3</th>\n",
       "      <td>468709</td>\n",
       "      <td>113</td>\n",
       "    </tr>\n",
       "    <tr>\n",
       "      <th>4</th>\n",
       "      <td>1323465</td>\n",
       "      <td>113</td>\n",
       "    </tr>\n",
       "    <tr>\n",
       "      <th>5</th>\n",
       "      <td>398379</td>\n",
       "      <td>250</td>\n",
       "    </tr>\n",
       "    <tr>\n",
       "      <th>6</th>\n",
       "      <td>641951</td>\n",
       "      <td>250</td>\n",
       "    </tr>\n",
       "    <tr>\n",
       "      <th>7</th>\n",
       "      <td>231044</td>\n",
       "      <td>931</td>\n",
       "    </tr>\n",
       "  </tbody>\n",
       "</table>\n",
       "</div>"
      ],
      "text/plain": [
       "     recid  references\n",
       "0    15541         113\n",
       "1   143630         113\n",
       "2   385487         113\n",
       "3   468709         113\n",
       "4  1323465         113\n",
       "5   398379         250\n",
       "6   641951         250\n",
       "7   231044         931"
      ]
     },
     "execution_count": 572,
     "metadata": {},
     "output_type": "execute_result"
    }
   ],
   "source": [
    "pj[:8]"
   ]
  },
  {
   "cell_type": "markdown",
   "metadata": {
    "heading_collapsed": true,
    "hidden": true
   },
   "source": [
    "###  Automatize the process"
   ]
  },
  {
   "cell_type": "code",
   "execution_count": 586,
   "metadata": {
    "hidden": true
   },
   "outputs": [
    {
     "name": "stdout",
     "output_type": "stream",
     "text": [
      "Overwriting nodes_to_pajek.py\n"
     ]
    }
   ],
   "source": [
    "%%writefile nodes_to_pajek.py\n",
    "import numpy as np\n",
    "import pandas as pd\n",
    "\n",
    "def ones(x,y):\n",
    "    return np.ones(len(x)).astype(int)*y\n",
    "\n",
    "def nodes_to_pajek(df):\n",
    "    df['list_rcid']=df.references.combine( df.recid, func=ones)\n",
    "    pj=pd.DataFrame( { 'recid': np.concatenate (  tuple( df.list_rcid.values ) ),\n",
    "                   'references': np.concatenate (  tuple( df.references.values ) )} )\n",
    "    pj=pj.sort_values(['references','recid'])\n",
    "    pj['diff_refs_1']=np.concatenate (  (  pj.references.values[1:]-pj.references.values[:-1],\n",
    "                            [   pj.references.values[-1]-pj.references.values[-2]   ] ) )\n",
    "    pj['diff_refs_2']=np.concatenate (  (  [   pj.references.values[-1]-pj.references.values[-2]   ],\n",
    "                                         (pj.references.values[:-1]-pj.references.values[1:])\n",
    "                                   ) )\n",
    "    pj['diff_refs']=pj.diff_refs_1*pj.diff_refs_2\n",
    "    \n",
    "    pj=pj[pj.diff_refs==0].drop(['diff_refs_1','diff_refs_2','diff_refs'],\n",
    "                        axis='columns').reset_index(drop=True)\n",
    "    return  pj"
   ]
  },
  {
   "cell_type": "code",
   "execution_count": 584,
   "metadata": {
    "hidden": true
   },
   "outputs": [],
   "source": [
    "from nodes_to_pajek import *"
   ]
  },
  {
   "cell_type": "code",
   "execution_count": null,
   "metadata": {
    "hidden": true
   },
   "outputs": [],
   "source": [
    "pj=nodes_to_pajek(df)"
   ]
  },
  {
   "cell_type": "code",
   "execution_count": 578,
   "metadata": {
    "hidden": true
   },
   "outputs": [
    {
     "data": {
      "text/plain": [
       "(4915, 2)"
      ]
     },
     "execution_count": 578,
     "metadata": {},
     "output_type": "execute_result"
    }
   ],
   "source": [
    "pj.shape"
   ]
  },
  {
   "cell_type": "markdown",
   "metadata": {
    "heading_collapsed": true,
    "hidden": true
   },
   "source": [
    "### We can now build the edges file!!!!\n",
    "In [pajek.ipynb](./pajek.ipynb)"
   ]
  },
  {
   "cell_type": "code",
   "execution_count": 587,
   "metadata": {
    "hidden": true
   },
   "outputs": [],
   "source": [
    "def nodes_to_pajek_tmp(df):\n",
    "    df['list_rcid']=df.references.combine( df.recid, func=ones)\n",
    "    pj=pd.DataFrame( { 'recid': np.concatenate (  tuple( df.list_rcid.values ) ),\n",
    "                   'references': np.concatenate (  tuple( df.references.values ) )} )\n",
    "    pj=pj.sort_values(['references','recid'])\n",
    "    pj['diff_refs_1']=np.concatenate (  (  pj.references.values[1:]-pj.references.values[:-1],\n",
    "                            [   pj.references.values[-1]-pj.references.values[-2]   ] ) )\n",
    "    pj['diff_refs_2']=np.concatenate (  (  [   pj.references.values[-1]-pj.references.values[-2]   ],\n",
    "                                         (pj.references.values[:-1]-pj.references.values[1:])\n",
    "                                   ) )\n",
    "    pj['diff_refs']=pj.diff_refs_1*pj.diff_refs_2\n",
    "    \n",
    "    pj=pj[pj.diff_refs==0].drop(['diff_refs_1','diff_refs_2','diff_refs'],\n",
    "                        axis='columns').reset_index(drop=True)\n",
    "    return  pj"
   ]
  },
  {
   "cell_type": "code",
   "execution_count": 595,
   "metadata": {
    "hidden": true
   },
   "outputs": [],
   "source": [
    "pjt=nodes_to_pajek_tmp(dfr)"
   ]
  },
  {
   "cell_type": "code",
   "execution_count": 596,
   "metadata": {
    "hidden": true
   },
   "outputs": [
    {
     "data": {
      "text/plain": [
       "(21733815, 2)"
      ]
     },
     "execution_count": 596,
     "metadata": {},
     "output_type": "execute_result"
    }
   ],
   "source": [
    "pjt.shape"
   ]
  },
  {
   "cell_type": "code",
   "execution_count": 597,
   "metadata": {
    "hidden": true
   },
   "outputs": [
    {
     "data": {
      "text/html": [
       "<div>\n",
       "<style>\n",
       "    .dataframe thead tr:only-child th {\n",
       "        text-align: right;\n",
       "    }\n",
       "\n",
       "    .dataframe thead th {\n",
       "        text-align: left;\n",
       "    }\n",
       "\n",
       "    .dataframe tbody tr th {\n",
       "        vertical-align: top;\n",
       "    }\n",
       "</style>\n",
       "<table border=\"1\" class=\"dataframe\">\n",
       "  <thead>\n",
       "    <tr style=\"text-align: right;\">\n",
       "      <th></th>\n",
       "      <th>recid</th>\n",
       "      <th>references</th>\n",
       "    </tr>\n",
       "  </thead>\n",
       "  <tbody>\n",
       "    <tr>\n",
       "      <th>0</th>\n",
       "      <td>76215</td>\n",
       "      <td>1</td>\n",
       "    </tr>\n",
       "    <tr>\n",
       "      <th>1</th>\n",
       "      <td>81651</td>\n",
       "      <td>1</td>\n",
       "    </tr>\n",
       "    <tr>\n",
       "      <th>2</th>\n",
       "      <td>128250</td>\n",
       "      <td>1</td>\n",
       "    </tr>\n",
       "  </tbody>\n",
       "</table>\n",
       "</div>"
      ],
      "text/plain": [
       "    recid  references\n",
       "0   76215           1\n",
       "1   81651           1\n",
       "2  128250           1"
      ]
     },
     "execution_count": 597,
     "metadata": {},
     "output_type": "execute_result"
    }
   ],
   "source": [
    "pjt[:3]"
   ]
  },
  {
   "cell_type": "code",
   "execution_count": null,
   "metadata": {
    "hidden": true
   },
   "outputs": [],
   "source": [
    "pjt.to_json('')"
   ]
  },
  {
   "cell_type": "markdown",
   "metadata": {
    "heading_collapsed": true,
    "slideshow": {
     "slide_type": "skip"
    }
   },
   "source": [
    "# Appendix\n",
    "Para generar las slides use:"
   ]
  },
  {
   "cell_type": "code",
   "execution_count": 30,
   "metadata": {
    "hidden": true,
    "slideshow": {
     "slide_type": "skip"
    }
   },
   "outputs": [
    {
     "name": "stderr",
     "output_type": "stream",
     "text": [
      "[NbConvertApp] Converting notebook ALL_inspire.ipynb to slides\n",
      "[NbConvertApp] Writing 273514 bytes to ALL_inspire.slides.html\n"
     ]
    }
   ],
   "source": [
    "%%bash\n",
    "jupyter nbconvert ALL_inspire.ipynb --to slides --reveal-prefix \"https://cdnjs.cloudflare.com/ajax/libs/reveal.js/3.1.0\""
   ]
  }
 ],
 "metadata": {
  "celltoolbar": "Raw Cell Format",
  "kernelspec": {
   "display_name": "Python 3",
   "language": "python",
   "name": "python3"
  },
  "language_info": {
   "codemirror_mode": {
    "name": "ipython",
    "version": 3
   },
   "file_extension": ".py",
   "mimetype": "text/x-python",
   "name": "python",
   "nbconvert_exporter": "python",
   "pygments_lexer": "ipython3",
   "version": "3.4.2"
  }
 },
 "nbformat": 4,
 "nbformat_minor": 2
}
